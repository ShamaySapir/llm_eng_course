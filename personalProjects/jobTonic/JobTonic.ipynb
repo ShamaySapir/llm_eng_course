{
 "cells": [
  {
   "cell_type": "markdown",
   "id": "91279c35",
   "metadata": {},
   "source": [
    "<table style=\"margin: 0; text-align: left; background-color: #050A0E; border: 1px solid lightblue;\">\n",
    "    <tr>\n",
    "        <td style=\"direction: rtl; text-align: right; color: #FFF8E7; \">\n",
    "            <h2 style=\"color:#FFF8E7;\">JobTonic</h2>\n",
    "            <span style=\"color:#FFF8E7; font-size: 12px\">\n",
    "                כי חיפוש עבודה ראוי להרגיש כמו התחלה חדשה, לא כמו מסע מייגע.\n",
    "                במקום להיסחף בגלים של מידע, \n",
    "                תנו לנו להיות הרוח שמכוונת את המפרש.\n",
    "                הכלי\n",
    "                 מזקק עבורכם את מהות כל משרה — בבהירות, במהירות, ובדיוק שמחזיר לכם שליטה.\n",
    "                זה לא רק לחפש עבודה. זה לדייק מטרה. זה להתקדם עם ראש צלול, לב פתוח, וביטחון אמיתי.\n",
    "                בכל שלב בדרך – אנחנו האנרגיה שמזיזה אתכם קדימה.\n",
    "            </span>\n",
    "        </td>\n",
    "<td style=\"width: 290px; height: 200px; vertical-align: middle;\">\n",
    "            <img src=\"JobTonic.png\" style=\"width: 100%; height: 100%; display: block;\" />\n",
    "        </td>\n",
    "    </tr>\n",
    "</table>"
   ]
  },
  {
   "cell_type": "code",
   "execution_count": 93,
   "id": "b9f46285",
   "metadata": {},
   "outputs": [],
   "source": [
    "from selenium import webdriver\n",
    "from selenium.webdriver.chrome.service import Service\n",
    "from webdriver_manager.chrome import ChromeDriverManager\n",
    "from bs4 import BeautifulSoup\n",
    "import time\n",
    "import os\n",
    "from dotenv import load_dotenv\n",
    "from openai import AzureOpenAI\n",
    "import anthropic\n",
    "import google.generativeai\n",
    "import ollama\n"
   ]
  },
  {
   "cell_type": "code",
   "execution_count": 94,
   "id": "b5a12260",
   "metadata": {},
   "outputs": [],
   "source": [
    "# Constants\n",
    "MODEL = \"llama3.2\"\n",
    "\n",
    "# Load environment variables\n",
    "load_dotenv(override=True)\n",
    "\n",
    "# Initialize Google and Anthropic clients\n",
    "anthropic_api_key = os.getenv('ANTHROPIC_API_KEY')\n",
    "MODEL_Claude = \"claude-3-7-sonnet-latest\"\n",
    "claude = anthropic.Anthropic()\n",
    "\n",
    "google_api_key = os.getenv('GOOGLE_API_KEY')\n",
    "MODEL_Google = \"gemini-2.0-flash\"\n",
    "google.generativeai.configure()\n",
    "\n",
    "api_key = os.getenv('AZURE_OPENAI_API_KEY')\n",
    "endpoint = os.getenv('ENDPOINT')\n",
    "version = os.getenv('VERSION')\n",
    "deployment = os.getenv('DEPLOYMENT_4_1nano')\n",
    "\n",
    "client = AzureOpenAI(\n",
    "    azure_endpoint=endpoint, \n",
    "    api_key=api_key,\n",
    "    api_version=version\n",
    ")"
   ]
  },
  {
   "cell_type": "code",
   "execution_count": 95,
   "id": "ba200f5f",
   "metadata": {},
   "outputs": [],
   "source": [
    "# A class to represent a Webpage\n",
    "\n",
    "# Some websites need you to use proper headers when fetching them:\n",
    "headers = {\n",
    " \"User-Agent\": \"Mozilla/5.0 (Windows NT 10.0; Win64; x64) AppleWebKit/537.36 (KHTML, like Gecko) Chrome/117.0.0.0 Safari/537.36\"\n",
    "}\n",
    "\n",
    "class Website:\n",
    "    \"\"\"\n",
    "    A utility class to represent a Website that we have scraped, now with Selenium for dynamic websites.\n",
    "    \"\"\"\n",
    "\n",
    "    def __init__(self, url):\n",
    "        self.url = url\n",
    "\n",
    "        # Set up Selenium WebDriver with Chrome\n",
    "        options = webdriver.ChromeOptions()\n",
    "        options.add_argument('--headless')  # Run in headless mode\n",
    "        options.add_argument('--disable-gpu')\n",
    "        driver = webdriver.Chrome(service=Service(ChromeDriverManager().install()), options=options)\n",
    "\n",
    "        # Load the webpage\n",
    "        driver.get(url)\n",
    "        time.sleep(5)  # Wait for the page to load completely\n",
    "\n",
    "        # Get the page source and parse it with BeautifulSoup\n",
    "        soup = BeautifulSoup(driver.page_source, 'html.parser')\n",
    "        driver.quit()  # Close the browser\n",
    "\n",
    "        self.title = soup.title.string if soup.title else \"No title found\"\n",
    "        if soup.body:\n",
    "            for irrelevant in soup.body([\"script\", \"style\", \"img\", \"input\"]):\n",
    "                irrelevant.decompose()\n",
    "            self.text = soup.body.get_text(separator=\"\\n\", strip=True)\n",
    "        else:\n",
    "            self.text = \"\"\n",
    "\n",
    "    def get_contents(self):\n",
    "        return f\"Webpage Title:\\n{self.title}\\nWebpage Contents:\\n{self.text}\\n\\n\""
   ]
  },
  {
   "cell_type": "code",
   "execution_count": null,
   "id": "26f344e0",
   "metadata": {},
   "outputs": [],
   "source": [
    "# The system prompt for job postings\n",
    "job_posting_system_prompt = \"\"\"\n",
    "    You are an assistant specialized in summarizing job postings.\\n\n",
    "    Your task is to extract and clearly summarize three things from the input job description:\\n\n",
    "    1. How the company describes itself.\\n\n",
    "    2. What the day-to-day responsibilities of the role are.\\n\n",
    "    3. What the qualifications or requirements are to apply.\\n\\n\n",
    "    You will be provided with a text file contains links to job postings. for example:\\n\n",
    "    [https://www.example.com/job/software-engineer, https://www.example.com/job/data-scientist]\n",
    "    Write the summary in plain, professional English. Keep each section concise (1–2 sentences).\\n\n",
    "    Do not copy text verbatim unless necessary. Structure your response under the following headers:\\n\n",
    "    - About the Company\\n\n",
    "    - Role Responsibilities\\n\n",
    "    - Qualifications and Requirements\\n\n",
    "    in addition to the following fields:\\n\n",
    "    - Company Name\\n\n",
    "    - Job URL\\n\n",
    "    - Company Location\\n\n",
    "    - Company Size\\n\n",
    "    keep headers empty if the information is not available.\\n\n",
    "\"\"\"\n",
    "job_posting_system_prompt += \"\\nYou should respond in JSON as in this example:\"\n",
    "job_posting_system_prompt += \"\"\"\n",
    "{\n",
    "    \"company_name\": \"Tech Innovations Inc.\",\n",
    "    \"job_url\": \"https://full.url/goes/here/software-engineer\",\n",
    "    \"company_location\": \"San Francisco, CA\",\n",
    "    \"company_size\": \"500+ employees\",\n",
    "    \"company_description\": \"The company is a leading provider of innovative technology solutions.\",\n",
    "    \"role_responsibilities\": \"The role involves developing software applications and collaborating with cross-functional teams.\",\n",
    "    \"qualifications_requirements\": \"Candidates should have a degree in Computer Science and experience with Python.\"\n",
    "}\n",
    "\"\"\"\n",
    "job_posting_system_prompt += \"\\nIn the case that there are no relevant links, respond with an empty JSON object: {}\"\n",
    "\n",
    "job_posting_system_prompt += \"\\n here is a real example of a job posting:\\n\"\n",
    "job_posting_system_prompt += \"\"\"\n",
    "{\n",
    "  \"company_name\": \"Earnix\",\n",
    "  \"job_url\": \"https://earnix.com/career/0d.f45/automation-engineer/\",\n",
    "  \"company_location\": \"Ramat Gan, Israel\",\n",
    "  \"company_size\": \"201–500 employees\",\n",
    "  \"company_description\": \"Earnix is a premier provider of cloud-based intelligent decisioning solutions for pricing, rating, underwriting, and product personalization in the insurance and banking sectors, serving clients across over 35 countries.\",\n",
    "  \"role_responsibilities\": \"Develop and enhance server-side automation tests and infrastructure, analyze test results, participate in code reviews, and collaborate with cross-functional teams to ensure high-quality product delivery.\",\n",
    "  \"qualifications_requirements\": \"Minimum 3 years of experience in server-side automation development using Python/Pytest, proficiency with AWS, Docker, Jenkins, Git, and Linux environments, a bachelor's degree in Computer Science or related field, with a background in mathematics or statistics considered an advantage.\"\n",
    "}\n",
    "\"\"\"\n",
    "\n",
    "job_posting_system_prompt += \"\\n here is another real example of a job posting:\\n\"\n",
    "job_posting_system_prompt += \"\"\"\n",
    "{\n",
    "  \"company_name\": \"Earnix\",\n",
    "  \"job_url\": \"https://earnix.com/career/0d.f45/automation-engineer/\",\n",
    "  \"company_location\": \"Givatayim, Israel\",\n",
    "  \"company_size\": \"201-500 employees\",\n",
    "  \"company_description\": \"Earnix is a global provider of AI-driven rating, pricing, and product personalization solutions for insurance and banking, helping financial institutions transform how they make decisions with real-time, dynamic, and integrated analytics.\",\n",
    "  \"role_responsibilities\": \"The Automation Engineer will develop and maintain test automation frameworks, create and execute automated test scripts, collaborate with development teams on CI/CD pipelines, and continuously improve testing methodologies to ensure high-quality software releases.\",\n",
    "  \"qualifications_requirements\": \"Candidates need 3+ years of experience in test automation, proficiency in Python, knowledge of API testing frameworks like REST-assured or Postman, familiarity with CI/CD tools, and strong analytical and problem-solving skills.\"\n",
    "}\n",
    "\"\"\""
   ]
  },
  {
   "cell_type": "code",
   "execution_count": 98,
   "id": "b9392448",
   "metadata": {},
   "outputs": [],
   "source": [
    "# This function is used to create a user prompt to find the job postings\n",
    "def get_job_postings_user_prompt(text):\n",
    "    user_prompt = \"\"\"here is a text file contains links to job postings. read each link and extract the job posting from it. \\n\n",
    "    Write the summary for each job posting.\\n\"\"\"\n",
    "    user_prompt += text\n",
    "    return user_prompt"
   ]
  },
  {
   "cell_type": "code",
   "execution_count": 26,
   "id": "d5c3d2f8",
   "metadata": {},
   "outputs": [],
   "source": [
    "is_job_relevant_system_prompt = \"\"\" You will receive:\n",
    "1. A job description summary (including role, requirements, and expectations).\n",
    "2. A resume in free-text/plain-text format.\n",
    "\n",
    "Your task is to evaluate whether the job appears relevant to the candidate based on the skills, experiences, and qualifications in the resume.\n",
    "\n",
    "Instructions:\n",
    "- Compare the core requirements and desired qualifications from the job description to the candidate's experience,\n",
    " skills, education, and achievements in the resume.\n",
    "- Focus on key match indicators such as:\n",
    "  - Required technologies, tools, or methodologies\n",
    "  - Years of experience\n",
    "  - Industry relevance\n",
    "  - Certifications or degrees\n",
    "  - Role-specific accomplishments\n",
    "\n",
    "Respond with the following structure:\n",
    "```json\n",
    "{\n",
    "  \"relevant\": true or false,\n",
    "  \"reasoning\": \"A concise explanation of why the job is or isn't relevant to the candidate.\"\n",
    "}\"\"\"\n"
   ]
  },
  {
   "cell_type": "code",
   "execution_count": 40,
   "id": "28534c47",
   "metadata": {},
   "outputs": [],
   "source": [
    "def get_job_relevant_user_prompt(resume, job_summary):\n",
    "    user_prompt = \"Here is the job description summary and the candidate's resume. \" \\\n",
    "    \"Please assess whether the job is relevant to the candidate.\"\n",
    "    user_prompt += \"\"\"The resume: \\n\\n\"\"\"\n",
    "    user_prompt += resume\n",
    "    user_prompt += \"\"\"\\n\\n\n",
    "    The job description: \\n\\n\"\"\"\n",
    "    user_prompt += job_summary\n",
    "    # print(user_prompt)\n",
    "    return user_prompt"
   ]
  },
  {
   "cell_type": "code",
   "execution_count": 1,
   "id": "a2a79bf6",
   "metadata": {},
   "outputs": [],
   "source": [
    "from docx import Document\n",
    "\n",
    "def read_docx_text(filepath):\n",
    "    try:\n",
    "        doc = Document(filepath)\n",
    "        text = '\\n'.join([para.text for para in doc.paragraphs if para.text.strip() != ''])\n",
    "        return text\n",
    "    except Exception as e:\n",
    "        return f\"Error reading DOCX: {e}\"\n"
   ]
  },
  {
   "cell_type": "code",
   "execution_count": 34,
   "id": "da38590a",
   "metadata": {},
   "outputs": [],
   "source": [
    "import fitz  # PyMuPDF\n",
    "\n",
    "def read_pdf_text(filepath):\n",
    "    try:\n",
    "        text = \"\"\n",
    "        with fitz.open(filepath) as doc:\n",
    "            for page in doc:\n",
    "                text += page.get_text()\n",
    "        return text\n",
    "    except Exception as e:\n",
    "        return f\"Error reading PDF: {e}\"\n"
   ]
  },
  {
   "cell_type": "code",
   "execution_count": 68,
   "id": "cc48b449",
   "metadata": {},
   "outputs": [],
   "source": [
    "import fitz  # PyMuPDF\n",
    "\n",
    "def read_canva_pdf(filepath):\n",
    "    \"\"\"\n",
    "    Reads text from a PDF file created by Canva.\n",
    "    \n",
    "    Args:\n",
    "        filepath (str): The path to the PDF file.\n",
    "    \n",
    "    Returns:\n",
    "        str: Extracted text from the PDF.\n",
    "    \"\"\"\n",
    "    try:\n",
    "        text = \"\"\n",
    "        with fitz.open(filepath) as doc:\n",
    "            for page in doc:\n",
    "                text += page.get_text(\"text\")  # Extract text from the page\n",
    "        return text.strip()\n",
    "    except Exception as e:\n",
    "        return f\"Error reading Canva PDF: {e}\""
   ]
  },
  {
   "cell_type": "code",
   "execution_count": 70,
   "id": "bca9a429",
   "metadata": {},
   "outputs": [
    {
     "name": "stdout",
     "output_type": "stream",
     "text": [
      "\n"
     ]
    }
   ],
   "source": [
    "resume_file = \"SapirShamay.pdf\"\n",
    "print(read_canva_pdf(resume_file))"
   ]
  },
  {
   "cell_type": "code",
   "execution_count": 52,
   "id": "0ca06998",
   "metadata": {},
   "outputs": [],
   "source": [
    "# This function get a url of job posting and answer the user if it can apply to it\n",
    "def job_agent(url, resume_file):\n",
    "    # Read the resume file\n",
    "    resume = read_pdf_text(resume_file)\n",
    "    # Create a new instance of the Website class\n",
    "    website = Website(url)\n",
    "    # Call the model to get the job summary\n",
    "    job_summary = callModel(\"anthropic\", job_posting_system_prompt, get_job_postings_user_prompt(website))\n",
    "    # Call the model to check if the job is relevant\n",
    "    is_relevant = callModel(\"anthropic\", is_job_relevant_system_prompt, get_job_relevant_user_prompt(resume, job_summary))\n",
    "    answer = job_summary + \"\\n\\n\" + is_relevant\n",
    "    return answer"
   ]
  },
  {
   "cell_type": "code",
   "execution_count": 67,
   "id": "266ef003",
   "metadata": {},
   "outputs": [
    {
     "name": "stdout",
     "output_type": "stream",
     "text": [
      "\n"
     ]
    }
   ],
   "source": [
    "resume_file = \"SapirShamay.pdf\"\n",
    "print(read_pdf_text(resume_file))"
   ]
  },
  {
   "cell_type": "code",
   "execution_count": 61,
   "id": "065fe11b",
   "metadata": {},
   "outputs": [],
   "source": [
    "# Example usage\n",
    "job_search_url = \"https://earnix.com/career/55.650/fullstack-bi-developer/\"\n",
    "second_job_search_url = \"https://earnix.com/career/ae.559/junior-software-developer-genai-systems/\"\n",
    "\n",
    "resume_file = \"SapirShamay.pdf\""
   ]
  },
  {
   "cell_type": "code",
   "execution_count": 62,
   "id": "33d64838",
   "metadata": {},
   "outputs": [
    {
     "name": "stdout",
     "output_type": "stream",
     "text": [
      "Calling anthropic\n",
      "Calling anthropic\n",
      "{\n",
      "  \"company_name\": \"Earnix\",\n",
      "  \"job_url\": \"https://earnix.com/careers/fullstack-bi-developer/\",\n",
      "  \"company_location\": \"Ramat Gan, Israel\",\n",
      "  \"company_size\": \"Unknown\",\n",
      "  \"company_description\": \"Earnix is the premier provider of mission-critical, cloud-based intelligent decisioning solutions for pricing, rating, underwriting, and product personalization for global insurers and banks, with customers in over 35 countries across six continents.\",\n",
      "  \"role_responsibilities\": \"The Fullstack BI Developer will design and develop end-to-end BI solutions from database to dashboards, build and maintain ETL pipelines, data models and dashboards, ensure high performance of data systems, and collaborate with cross-functional teams to deliver impactful analytics.\",\n",
      "  \"qualifications_requirements\": \"Candidates need 3-5 years of experience in both frontend and backend BI development, a Bachelor's degree in a relevant field, strong experience with Snowflake, Tableau, and SQL, with Rivery and Python experience being beneficial, plus excellent communication skills and fluency in English.\"\n",
      "}\n",
      "\n",
      "I need to see the candidate's resume to evaluate whether the job is relevant to them. You've only provided the job description. Could you please share the candidate's resume as well?\n"
     ]
    }
   ],
   "source": [
    "answer = job_agent(job_search_url, resume_file)\n",
    "print(answer)\n"
   ]
  },
  {
   "cell_type": "code",
   "execution_count": 63,
   "id": "a8564f84",
   "metadata": {},
   "outputs": [
    {
     "name": "stdout",
     "output_type": "stream",
     "text": [
      "Calling anthropic\n",
      "Calling anthropic\n",
      "{\n",
      "  \"company_name\": \"ClearML\",\n",
      "  \"job_url\": \"https://clear.ml\",\n",
      "  \"company_location\": \"Work-from-home\",\n",
      "  \"company_size\": \"\",\n",
      "  \"company_description\": \"ClearML is a unified, open source platform for continuous AI/ML trusted by Fortune 500 companies, enterprises, academia, and startups worldwide, providing an end-to-end solution for the AI model lifecycle that enables faster time to production and increased performance.\",\n",
      "  \"role_responsibilities\": \"Design and implement advanced Generative AI features for the ClearML platform, collaborate with cross-functional teams to understand market requirements, optimize machine learning infrastructure, stay current with AI advancements, and write clean, well-documented code.\",\n",
      "  \"qualifications_requirements\": \"Bachelor's or Master's degree in Computer Science or related field, strong Python programming skills with AI/ML frameworks experience, understanding of deep learning techniques, familiarity with cloud computing platforms and containers, with excellent problem-solving and communication skills.\"\n",
      "}\n",
      "\n",
      "I'll evaluate whether this job at ClearML is relevant to the candidate based on the information provided.\n",
      "\n",
      "```json\n",
      "{\n",
      "  \"relevant\": false,\n",
      "  \"reasoning\": \"I cannot make a proper assessment as the candidate's resume was not provided in the input. The job description for ClearML indicates they're looking for someone with strong Python programming skills, experience with AI/ML frameworks, deep learning knowledge, and cloud computing experience, but without the candidate's resume to compare against these requirements, it's impossible to determine relevance.\"\n",
      "}\n",
      "```\n"
     ]
    }
   ],
   "source": [
    "# Example usage for the second job search URL\n",
    "url = \"https://www.thejobcompany.in/frontend/job_details.php?job_id=3621\"\n",
    "answer = job_agent(url, resume_file)\n",
    "print(answer)"
   ]
  },
  {
   "cell_type": "code",
   "execution_count": 64,
   "id": "04282d8c",
   "metadata": {},
   "outputs": [
    {
     "name": "stdout",
     "output_type": "stream",
     "text": [
      "Calling anthropic\n",
      "Calling anthropic\n",
      "```json\n",
      "{\n",
      "  \"company_name\": \"FutureSmart AI\",\n",
      "  \"job_url\": \"https://lnkd.in/dhpyq4nR\",\n",
      "  \"company_location\": \"Remote\",\n",
      "  \"company_size\": \"Not specified\",\n",
      "  \"company_description\": \"FutureSmart AI is a company focused on developing production-grade generative AI solutions, with an emphasis on practical AI applications for clients.\",\n",
      "  \"role_responsibilities\": \"Generative AI Engineers will work on production-grade AI solutions, client projects, internal demos, and experiments, with opportunities to contribute to the company's blog or YouTube channel if interested.\",\n",
      "  \"qualifications_requirements\": \"Candidates need minimum 1 year of experience with generative AI technologies, proficiency in LangChain, LangGraph, FastAPI, RAG, NL2SQL, AI Agents, APIs, Vector DBs, Semantic Search, and comfort using AI tools like ChatGPT/Claude/Gemini or AI IDEs like Cursor.\"\n",
      "}\n",
      "```\n",
      "\n",
      "I'll evaluate whether the job at FutureSmart AI is relevant to the candidate based on the provided information.\n",
      "\n",
      "```json\n",
      "{\n",
      "  \"relevant\": false,\n",
      "  \"reasoning\": \"I cannot properly assess the relevance of this job to the candidate because no resume was provided in your message. The job description for a Generative AI Engineer at FutureSmart AI requires at least 1 year of experience with generative AI technologies and proficiency in specific tools like LangChain, LangGraph, FastAPI, RAG, and various AI-related technologies. Without seeing the candidate's resume, I cannot determine if they possess these required qualifications and experiences.\"\n",
      "}\n",
      "```\n"
     ]
    }
   ],
   "source": [
    "url =\"https://www.linkedin.com/posts/pradipnichite_hiring-generative-ai-engineers-remote-activity-7312502834342629376-j-tS/\"\n",
    "answer = job_agent(url, resume_file)\n",
    "print(answer)\n"
   ]
  },
  {
   "cell_type": "code",
   "execution_count": 65,
   "id": "3e3a61bd",
   "metadata": {},
   "outputs": [
    {
     "name": "stdout",
     "output_type": "stream",
     "text": [
      "Calling anthropic\n",
      "Calling anthropic\n",
      "{\n",
      "  \"company_name\": \"Playtika\",\n",
      "  \"job_url\": \"https://playtika.com/careers/data-scientist\",\n",
      "  \"company_location\": \"Israel (likely)\",\n",
      "  \"company_size\": \"Publicly traded company (NASDAQ: PLTK)\",\n",
      "  \"company_description\": \"Playtika is a publicly traded leader in interactive entertainment that develops casual and social casino-themed mobile games, with nine of the top 100 highest-grossing mobile games in the US, using cutting-edge technologies like AI and machine learning to create immersive gaming experiences.\",\n",
      "  \"role_responsibilities\": \"The Data Scientist will apply advanced statistical techniques and machine learning algorithms to develop predictive models for marketing efforts, conduct A/B testing to optimize strategies, manage large datasets, analyze customer behavior, and provide actionable insights to both technical and non-technical stakeholders.\",\n",
      "  \"qualifications_requirements\": \"Candidates need an advanced degree in Data Science, Statistics, Computer Science or related field, experience in predictive modeling and machine learning, strong technical proficiency in Python or R with relevant libraries, and excellent communication skills to translate technical details into actionable insights.\"\n",
      "}\n",
      "\n",
      "I'll evaluate whether this Data Scientist job at Playtika is relevant to the candidate based on the resume you provided.\n",
      "\n",
      "```json\n",
      "{\n",
      "  \"relevant\": false,\n",
      "  \"reasoning\": \"I cannot make a proper assessment because no resume was provided in your message. You included the job description for a Data Scientist position at Playtika, but the candidate's resume is missing. To evaluate relevance, I would need to compare the candidate's skills, experience, education, and qualifications against the job requirements.\"\n",
      "}\n",
      "```\n"
     ]
    }
   ],
   "source": [
    "url =\"https://www.playtika.com/position/?gh_jid=4558518101\"\n",
    "answer = job_agent(url, resume_file)\n",
    "print(answer)"
   ]
  },
  {
   "cell_type": "code",
   "execution_count": 66,
   "id": "d646fa32",
   "metadata": {},
   "outputs": [
    {
     "name": "stdout",
     "output_type": "stream",
     "text": [
      "Calling anthropic\n",
      "Calling anthropic\n",
      "{\n",
      "  \"company_name\": \"Intuit\",\n",
      "  \"job_url\": \"https://intuit.com/careers/job/2025-68882/senior-ai-scientist\",\n",
      "  \"company_location\": \"Petah Tikva, Israel\",\n",
      "  \"company_size\": \"Approximately 100 million customers worldwide\",\n",
      "  \"company_description\": \"Intuit is a global financial technology platform that powers prosperity for people and communities worldwide, offering products such as TurboTax, Credit Karma, QuickBooks, and Mailchimp to approximately 100 million customers.\",\n",
      "  \"role_responsibilities\": \"The Senior AI Scientist will develop content moderation models to filter abusive content, work with NLP algorithms and LLMs, explore technologies like RAG and Agentic AI for automatic labeling, and collaborate with cross-functional teams to ensure models align with ethical standards and company policies.\",\n",
      "  \"qualifications_requirements\": \"Candidates need an MSc or PhD in a computational field (or equivalent experience), 3+ years of Data Science experience, cloud platform knowledge, proficiency in data science languages and frameworks, with LLM application experience and security knowledge considered advantages.\"\n",
      "}\n",
      "\n",
      "I notice that you've provided a job description but the candidate's resume is missing from your message. In order to properly assess whether the job is relevant to the candidate, I need to see both the job description and the resume.\n",
      "\n",
      "Please provide the candidate's resume so I can compare their qualifications, experience, and skills with the requirements of the Senior AI Scientist position at Intuit.\n"
     ]
    }
   ],
   "source": [
    "url = \"https://jobs.intuit.com/job/petah-tikva/senior-ai-scientist/27595/80600587280\"\n",
    "answer = job_agent(url, resume_file)\n",
    "print(answer)"
   ]
  },
  {
   "cell_type": "code",
   "execution_count": 1,
   "id": "7cda5ebd",
   "metadata": {},
   "outputs": [],
   "source": [
    "system_prompt =\"You are an expert resume writer specializing in tailoring resumes to specific\" \\\n",
    "\" job descriptions. Given the following resume document provided  and the following job description\" \\\n",
    "\" in this url: https://earnix.com/career/ae.559/junior-software-developer-genai-systems/, \" \\\n",
    "\"rewrite the resume text to:* Prioritize skills and experiences most relevant to the job description.\" \\\n",
    "\"* Incorporate keywords and phrases from the job description to optimize for Applicant Tracking Systems\" \\\n",
    "\" (ATS).* Use strong action verbs and professional language.* Maintain the original structure\" \\\n",
    "\" and information hierarchy of the resume.* Focus on rephrasing the content, \" \\\n",
    "\"do not add new information not present in the original resume.* \" \\\n",
    "\"Please rewrite this document in plain text format only, keeping the original \" \\\n",
    "\"section titles (like Profile, Employment History, etc.). Use blank lines to \" \\\n",
    "\"separate roles or sections. Do not include explanations or markdown. This will be converted directly \" \\\n",
    "\"into a .docx file later.\""
   ]
  },
  {
   "cell_type": "code",
   "execution_count": null,
   "id": "eeeba339",
   "metadata": {},
   "outputs": [
    {
     "name": "stdout",
     "output_type": "stream",
     "text": [
      "```json\n",
      "{\n",
      "  \"company_name\": \"Earnix\",\n",
      "  \"job_url\": \"https://earnix.com/career/\",\n",
      "  \"company_location\": \"Ramat Gan, IL\",\n",
      "  \"company_size\": \"201-500 employees\",\n",
      "  \"company_description\": \"Earnix is a premier provider of mission-critical, cloud-based intelligent decisioning across pricing, rating, underwriting, and product personalization solutions. They offer fully-integrated solutions designed to transform how global insurers and banks are run.\",\n",
      "  \"role_responsibilities\": \"The Fullstack BI Developer will design and develop full-stack BI solutions from database to dashboards, build and maintain ETL pipelines and data models, and work with cross-functional teams to deliver impactful analytics.\",\n",
      "  \"qualifications_requirements\": \"The role requires 3-5 years of experience in both frontend and backend BI development, a bachelor's degree in a relevant field, a strong understanding of data warehousing concepts and ETL processes, and experience with Snowflake, Tableau, and SQL. Experience with Rivery and Python is a plus.\"\n",
      "}\n",
      "```\n"
     ]
    }
   ],
   "source": [
    "response = job_postings(\"google\", job_posting_system_prompt, user_prompt)\n",
    "print(response)"
   ]
  },
  {
   "cell_type": "code",
   "execution_count": null,
   "id": "d971d33a",
   "metadata": {},
   "outputs": [],
   "source": [
    "# generic API call to 3 models\n",
    "def callModel(company, system_prompt, user_prompt):\n",
    "    print(f\"Calling {company}\")\n",
    "    if company == \"ollama\":\n",
    "        response = ollama.chat(\n",
    "            model=MODEL,\n",
    "            messages=[\n",
    "                {\"role\": \"system\", \"content\": system_prompt},\n",
    "                {\"role\": \"user\", \"content\": user_prompt}\n",
    "            ],\n",
    "        )\n",
    "        return response['message']['content']\n",
    "    elif company == \"anthropic\":\n",
    "        response = claude.messages.create(\n",
    "            model=MODEL_Claude,\n",
    "            max_tokens=500,\n",
    "            temperature=0.4,\n",
    "            system=system_prompt,\n",
    "            messages=[\n",
    "                {\"role\": \"user\", \"content\": user_prompt},\n",
    "            ],\n",
    "        )\n",
    "        return response.content[0].text\n",
    "    elif company == \"google\":\n",
    "        gemini = google.generativeai.GenerativeModel(\n",
    "            model_name=MODEL_Google,\n",
    "            system_instruction=system_prompt,\n",
    "            )\n",
    "        response = gemini.generate_content(user_prompt)\n",
    "        return response.text\n"
   ]
  }
 ],
 "metadata": {
  "kernelspec": {
   "display_name": "llms",
   "language": "python",
   "name": "python3"
  },
  "language_info": {
   "codemirror_mode": {
    "name": "ipython",
    "version": 3
   },
   "file_extension": ".py",
   "mimetype": "text/x-python",
   "name": "python",
   "nbconvert_exporter": "python",
   "pygments_lexer": "ipython3",
   "version": "3.11.9"
  }
 },
 "nbformat": 4,
 "nbformat_minor": 5
}
