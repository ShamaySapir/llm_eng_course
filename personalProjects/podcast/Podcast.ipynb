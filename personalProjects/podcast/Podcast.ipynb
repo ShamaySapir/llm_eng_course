{
 "cells": [
  {
   "cell_type": "code",
   "execution_count": null,
   "id": "4e2a9393-7767-488e-a8bf-27c12dca35bd",
   "metadata": {},
   "outputs": [],
   "source": [
    "# imports\n",
    "\n",
    "import os\n",
    "from dotenv import load_dotenv\n",
    "from openai import AzureOpenAI\n",
    "import requests\n"
   ]
  },
  {
   "cell_type": "code",
   "execution_count": 3,
   "id": "7b87cadb-d513-4303-baee-a37b6f938e4d",
   "metadata": {},
   "outputs": [
    {
     "name": "stdout",
     "output_type": "stream",
     "text": [
      "API key found and looks good so far!\n",
      "endpoint found and looks good so far!\n"
     ]
    }
   ],
   "source": [
    "# Load environment variables in a file called .env\n",
    "\n",
    "load_dotenv(override=True)\n",
    "api_key = os.getenv('AZURE_OPENAI_API_KEY')\n",
    "endpoint = os.getenv('ENDPOINT')\n",
    "version = os.getenv('VERSION')\n",
    "deployment = os.getenv('DEPLOYMENT_4_1nano')\n",
    "\n",
    "# Check the key\n",
    "\n",
    "if not api_key:\n",
    "    print(\"No API key was found - please head over to the troubleshooting notebook in this folder to identify & fix!\")\n",
    "# elif not api_key.startswith(\"sk-proj-\"):\n",
    "#     print(\"An API key was found, but it doesn't start sk-proj-; please check you're using the right key - see troubleshooting notebook\")\n",
    "elif api_key.strip() != api_key:\n",
    "    print(\"An API key was found, but it looks like it might have space or tab characters at the start or end - please remove them - see troubleshooting notebook\")\n",
    "else:\n",
    "    print(\"API key found and looks good so far!\")\n",
    "\n",
    "# Check the endpoint\n",
    "\n",
    "if  not endpoint:\n",
    "    print(\"No endpoint  was found\")\n",
    "else:\n",
    "    print(\"endpoint found and looks good so far!\")\n"
   ]
  },
  {
   "cell_type": "code",
   "execution_count": 4,
   "id": "019974d9-f3ad-4a8a-b5f9-0a3719aea2d3",
   "metadata": {},
   "outputs": [],
   "source": [
    "client = AzureOpenAI(\n",
    "    azure_endpoint=endpoint, \n",
    "    api_key=api_key,\n",
    "    api_version=version\n",
    ")"
   ]
  },
  {
   "cell_type": "markdown",
   "id": "ec72cb47",
   "metadata": {},
   "source": [
    "Read the file"
   ]
  },
  {
   "cell_type": "code",
   "execution_count": 5,
   "id": "24bfbac4",
   "metadata": {},
   "outputs": [],
   "source": [
    "import re\n",
    "import json\n",
    "\n",
    "file_name = \"relationship2.txt\"\n",
    "\n",
    "with open(file_name, \"r\", encoding=\"utf-8\") as f:\n",
    "    full_text = f.read()"
   ]
  },
  {
   "cell_type": "code",
   "execution_count": 10,
   "id": "d4367bc9",
   "metadata": {},
   "outputs": [],
   "source": [
    "def generic_response(user_prompt, sysyem_prompt, model=deployment):\n",
    "    response = client.chat.completions.create(\n",
    "        model=model,\n",
    "        messages=[\n",
    "            {\n",
    "                \"role\": \"system\",\n",
    "                \"content\": sysyem_prompt\n",
    "            },\n",
    "            {\n",
    "                \"role\": \"user\",\n",
    "                \"content\": user_prompt\n",
    "            }\n",
    "        ],\n",
    "    )\n",
    "    return response.choices[0].message.content.strip()"
   ]
  },
  {
   "cell_type": "markdown",
   "id": "806bb817",
   "metadata": {},
   "source": [
    "First thing is to transalte it to english and add before each part the week and day according to what's it says in the format:\n",
    "Week X Day Y"
   ]
  },
  {
   "cell_type": "code",
   "execution_count": 11,
   "id": "98e21b22",
   "metadata": {},
   "outputs": [
    {
     "name": "stdout",
     "output_type": "stream",
     "text": [
      "Week 2 Day 1  \n",
      "Building Your Partner's \"Love Map\"  \n",
      "Brother, let's start this week with a simple but serious question: How well do you really know your girlfriend?  \n",
      "I'm not talking about knowing her favorite color or how she drinks her coffee. I mean deeper things. What's going through her mind before she falls asleep? What dreams hasn't she fulfilled yet? What is she afraid of?  \n",
      "Relationship researcher Dr. John Gottman found that one of the most significant differences between couples who manage to stay together for years and those who don't is the level of understanding of each other's inner world. Happy couples know not only what their partner did today but also how they felt, what's bothering them, and what matters most in life. They don't just talk about the kids or work—they delve into deeper layers.  \n",
      "So the question is – how do you build this? How do you ensure that you truly know your girlfriend even after years together?  \n",
      "Your task for today:  \n",
      "Today, you will check how well you really know her.  \n",
      "1. Sit alone for 5 minutes and answer the following questions—without checking with her, just based on your thoughts:  \n",
      "    * What has been bothering her the most recently?  \n",
      "    * What is her life’s dream?  \n",
      "    * If she could change one thing about herself, what would it be?  \n",
      "    * What is the most meaningful moment in her life so far?  \n",
      "    * Who is the person who influenced her the most?  \n",
      "2. After answering, check with her.  \n",
      "    * Tell her: \"I did a small experiment with myself and answered some questions about you—I’m curious to see if I was right.\"  \n",
      "    * Let her answer the same questions, and compare with what you thought.  \n",
      "Bonus step? Let her ask you the same questions.  \n",
      "You’ll be surprised to discover many new things. Maybe you'll also realize where there are gaps in her \"Love Map\"—things you thought you knew but the reality is different.  \n",
      "Go for it. See you tomorrow.  \n",
      "\n",
      "Week 2 Day 2  \n",
      "How does she see the future?  \n",
      "Brother, tell me—when was the last time you sat with your girlfriend and really talked about the future?  \n",
      "Not about what book to buy for next week, or the kids’ classes—but about how she envisions your life in 5, 10, or 20 years?  \n",
      "John Gottman’s research shows that couples who regularly talk about the future and develop a shared vision feel much more synchronized with each other. It doesn’t have to be the exact same dream—each can want slightly different things—but simply knowing where each is aiming allows you to feel you're heading in the same direction.  \n",
      "But here’s the thing—many times we assume we know how our partner sees the future, but in reality, her perception can change over time. She might have once thought about a certain career, and now have a different dream. Maybe she fantasizes about things she hasn't told you because she didn’t think it was relevant.  \n",
      "Your task for today:  \n",
      "1. During the day, plan a quiet moment to ask her one question:  \n",
      "    * \"If you could imagine our life in 10 years, what would it look like?\"  \n",
      "    * \"Is there something you always wanted to do but haven't yet?\"  \n",
      "    * \"What change would you like to see in our lives in the future?\"  \n",
      "2. Let her talk.  \n",
      "    * Don’t interrupt her.  \n",
      "    * Don’t rush to explain how it fits or doesn’t fit your plans.  \n",
      "    * Just listen.  \n",
      "3. At the end of the conversation, share your view too.  \n",
      "    * Tell her how you see the future.  \n",
      "    * Try to find points where your dreams align.  \n",
      "The goal isn’t to plan actual steps but to understand how she envisions your life ahead. You may discover things you didn’t know, and it might also change how you see your own aspirations.  \n",
      "Remember—this isn’t a one-time exercise. People change, life changes, and what you thought five years ago may no longer be relevant today. Give space for this, be interested, and be open to listening.  \n",
      "\n",
      "Week 2 Day 3  \n",
      "What small things make her feel good?  \n",
      "Brother, you know that sometimes you can invest a lot of time and effort into something big—like an elaborate date, a special gift, or a romantic gesture—and your girlfriend gets most excited about a small, unexpected thing?  \n",
      "The point is—most people have \"small things\" that make them feel good, but sometimes they don’t say them out loud.  \n",
      "Research shows that couples who know each other's \"positive triggers\"—those small things that brighten the heart—manage to keep a stronger, deeper connection over the years.  \n",
      "The problem? We don’t always remember to ask.  \n",
      "Your task for today:  \n",
      "1. Ask her one simple question:  \n",
      "    * \"What are three small things I do that make you feel loved?\"  \n",
      "    * \"What are three small things, unrelated to me, that make your day better?\"  \n",
      "2. Listen—and remember.  \n",
      "    * She may say things you hadn’t thought of at all.  \n",
      "    * It could be something small like sending her a good morning message, making her coffee the way she likes, or giving her a hug for no reason.  \n",
      "    * It might also be external things—like watching a sunset, hearing a specific song, or reading a good book.  \n",
      "3. Choose one thing— and do it today.  \n",
      "    * If it’s something you can do right now—do it.  \n",
      "    * If it’s something that can become a habit—even better.  \n",
      "The point here isn’t just knowing but acting. The more you understand what makes her feel good—and act on it daily—the deeper your connection will grow.  \n",
      "In the end, love is built from small things, not just big gestures.  \n",
      "\n",
      "Week 2 Day 4  \n",
      "What are her worries and stresses?  \n",
      "Brother, let’s be frank—how many times has it happened that she was upset, stressed, or simply quiet, and you didn’t really know why?  \n",
      "Maybe you tried asking, and she answered \"I don’t feel like talking about it\" or \"Everything’s fine,\" but something inside you knew it wasn’t exactly true.  \n",
      "One of the most important things in a relationship is to understand what stresses your girlfriend—not just during tough times, but also day-to-day. When you know what worries or troubles her, you get the chance not only to be there for her but also to help reduce her mental burden. And that? That’s a superpower in a relationship.  \n",
      "What does the research say?  \n",
      "Gottman found that couples who understand each other’s sources of stress develop greater empathy and strengthen their bond over the long term. Because when you understand what’s stressing her, you don’t just respond to a situation—you create a safe space where she feels comfortable to share.  \n",
      "Your task for today:  \n",
      "1. Ask her gently:  \n",
      "    * \"I know that many things stress you day-to-day. What are the three things bothering you the most right now?\"  \n",
      "    * \"If you had a magic wand and could remove one worry, what would it be?\"  \n",
      "2. Just listen.  \n",
      "    * Without trying to solve or give advice—simply show you’re there.  \n",
      "    * Say something like: \"I understand, that sounds really challenging. I’m here for you.\"  \n",
      "    * Let her feel she has a safe place to open up without jumping straight to solutions.  \n",
      "3. Do something small to help ease her stress.  \n",
      "    * If she’s anxious about work, maybe prepare her coffee in the morning.  \n",
      "    * If she’s tired from at-home chores, perhaps reduce one task from her schedule.  \n",
      "    * No need to save the whole world—just showing you see her is enough.  \n",
      "In the end, her worries aren’t just hers—they’re yours too. When she feels you’re with her in this, she’ll feel more secure, more loved, and more connected to you.  \n",
      "\n",
      "Week 2 Day 5  \n",
      "Who are her meaningful friends and people in her life?  \n",
      "Pause for a moment—if I asked you right now who her closest people are, not including you and her family, would you know the answer?  \n",
      "Who is her best friend? Who is the person she always consults? To whom does she send the first message when she’s excited about something?  \n",
      "Strong relationships don’t exist in a bubble. Your girlfriend has a whole social circle from which she draws strength, support, and sometimes unloads things she wouldn’t tell you right away. The more you get to know the people around her, the better you understand her—and where you fit in her life.  \n",
      "What does the research tell us?  \n",
      "Gottman discovered that couples who know and respect each other’s support circles develop a more stable relationship. Why? Because knowing her important people means you understand her better—you don’t only see her, but you also strengthen the feeling that she doesn’t have to choose between you and others. Instead, you become part of the system that supports her.  \n",
      "Your task for today:  \n",
      "1. Gently ask her about the people in her life:  \n",
      "    * \"If you had to choose three people as your anchors, who would they be?\"  \n",
      "    * \"Who is the first person you call when something big happens—good or bad?\"  \n",
      "2. Listen and show interest.  \n",
      "    * Ask more about them: \"What do you like most about them?\" \"How did you meet?\"  \n",
      "    * Make her feel you truly want to know—and not just asking out of obligation.  \n",
      "3. Try to remember and act on this later.  \n",
      "    * Next time she mentions a name, ask something like, \"How did your chat with Danya go?\"  \n",
      "    * If she says a friend is going through a tough time, follow up later: \"How is she doing?\"  \n",
      "Once she sees you really remember and care, she’ll feel you’re not just a partner but a true life partner. And that’s worth a lot.  \n",
      "\n",
      "Week 2 Day 6  \n",
      "What are her dreams and aspirations?  \n",
      "Pause for a moment—what’s your girlfriend’s biggest dream? It doesn’t have to be a distant, vague goal like \"saving the world\" or \"opening a restaurant in the jungle.\" It can be something personal, small or big—maybe she wants to write a book, learn a new field, travel alone abroad, or just become a better version of herself.  \n",
      "How well do you really know about this?  \n",
      "What does the research say?  \n",
      "Gottman found that one of the key differences between long-lasting couples and those who break up is how much each supports and understands the other’s dreams. Couples who don’t talk about their aspirations or dismiss them as unimportant encounter more conflicts and feelings of distance.  \n",
      "On the other hand, when you know her dream—and even help her move toward it—she feels you’re not only there with her in daily moments but truly sees her.  \n",
      "Your task for today:  \n",
      "1. Ask her questions that help you understand her dreams better:  \n",
      "    * \"If there were no limitations—money, time, fears—what would you want to do?\"  \n",
      "    * \"Is there something you’ve been dreaming about for a long time but haven’t achieved yet?\"  \n",
      "    * \"What would make you feel most fulfilled and happy in life?\"  \n",
      "2. Listen carefully.  \n",
      "    * Don’t try to fix, suggest solutions, or belittle. Even if it seems unrealistic or unimportant, it’s important to her.  \n",
      "3. Show her your support.  \n",
      "    * It doesn’t mean becoming her personal coach, but you can ask questions like: \"How can I help you move toward that?\" \"What’s the tiniest step you can take right now?\"  \n",
      "    * Sometimes, knowing there’s someone who sees her dreams and affirms them is enough to give her strength to keep going.  \n",
      "Think of it this way—by showing her you see her dreams, you tell her without words: \"I see you. I’m with you. I want you to succeed.\" Not many things can strengthen your bond more than that.  \n",
      "\n",
      "Week 2 Day 7  \n",
      "Building a Shared Vision as a Couple  \n",
      "Research in positive psychology and relationships shows that couples who share a common future vision experience higher levels of satisfaction, intimacy, and stability. John Gottman explains that when partners create a \"roadmap\" for their future together, they develop a deeper sense of meaning in their relationship, which also boosts cooperation and resilience against challenges.  \n",
      "In relationships without open dialogue about the future, couples risk drifting apart, with growing gaps in their expectations and dreams. Therefore, investing in a shared future vision isn’t just a romantic task—that’s a practical tool for identifying shared goals, bridging gaps, and mutual growth.  \n",
      "\"So brother, you've reached the last day of this week—well done! You’ve invested in conversations with your girlfriend, clarified what’s important to her, and now it’s time to look ahead.  \n",
      "Pause and think—how do you see yourself and your relationship in 5, 10, 20 years?  \n",
      "Where will you live? What will your life look like? How will your daily life be?  \n",
      "Are you spending a lot of time together, or is each one caught up in their own world?  \n",
      "Do you share dreams—maybe traveling the world, starting a business together, or early retirement by the sea?  \n",
      "Even more important—how does your girlfriend see this future? Do you even know, or are you just assuming?  \n",
      "Your task today is to sit down with her and have an open conversation about your shared vision. It doesn’t have to be a heavy talk—let it flow naturally, maybe over a glass of wine or a walk together.  \n",
      "Let her tell you how she imagines your future, and share your vision too.  \n",
      "To make it more tangible, write down together 5-10 goals you want to achieve as a couple in the coming years. It could range from small experiences like a trip to a specific destination to big goals like changing your living situation or lifestyle.  \n",
      "The point is to create clarity—see if you’re heading in the same direction, and if not—how to close the gaps.  \n",
      "And as always, put this on your calendar—perhaps once a month, have such a discussion to stay aligned on your journey together. It’s one of the most meaningful actions you can take for your relationship.  \n",
      "Go for it—build a future that’s not just in your head, but something you both dream about together!**\n"
     ]
    }
   ],
   "source": [
    "system_prompt = \"You are a helpful assistant that gets text in Hebrew \" \\\n",
    "\"and translates it to English and can do requested changes to the text.\"\n",
    "\n",
    "user_prompt =\"Translate the following text to English and before each part of the text, add the line Week X Day Y \" \\\n",
    "\"according to the text\"\n",
    "user_prompt += \"\\n\\n\" + full_text\n",
    "\n",
    "# Call the Azure OpenAI API\n",
    "response = generic_response(user_prompt, system_prompt)\n",
    "print(response)\n"
   ]
  },
  {
   "cell_type": "markdown",
   "id": "bc3549fe",
   "metadata": {},
   "source": [
    "getting full text with separation by pattern - divide it to different days"
   ]
  },
  {
   "cell_type": "code",
   "execution_count": 12,
   "id": "87700e55",
   "metadata": {},
   "outputs": [],
   "source": [
    "\n",
    "# this is a regex pattern to split the text into parts\n",
    "pattern = r'(Week\\s+\\d+\\s+Day\\s+\\d+)'\n",
    "parts = re.split(pattern, response)\n",
    "\n",
    "days = []\n",
    "for i in range(1, len(parts), 2):\n",
    "    title = parts[i].strip()\n",
    "    content = parts[i + 1].strip()\n",
    "    days.append((title, f\"{title}\\n{content}\"))\n"
   ]
  },
  {
   "cell_type": "markdown",
   "id": "432bd723",
   "metadata": {},
   "source": [
    "Each day will get a title and a summarization"
   ]
  },
  {
   "cell_type": "code",
   "execution_count": 13,
   "id": "9324b0f9",
   "metadata": {},
   "outputs": [],
   "source": [
    "system_prompt_ = \"You are a helpful assistant. \\\n",
    "    For each Week and Day, summarize the key information briefly.\"\n",
    "\n",
    "def user_prompt_for_title(day_text, z):\n",
    "    user_prompt = f\"Please summarize the following content into a single line \\\n",
    "    to be used as a podcast episode title, \\\n",
    "        in the format: Week X: Day Y – NAME (Z). \\\n",
    "            X is the Week number, Y is the day number \\\n",
    "            and Z is the value {z}. \\\n",
    "            NAME is the episode title you create.\\n\"\n",
    "    user_prompt += day_text\n",
    "    return user_prompt\n",
    "\n",
    "def user_prompt_for_summary(day_text):\n",
    "    user_prompt = f\"Please summarize the following content into a single line \\\n",
    "    to be used as a podcast episode summary.\"\n",
    "    user_prompt += day_text\n",
    "    return user_prompt"
   ]
  },
  {
   "cell_type": "code",
   "execution_count": 14,
   "id": "00743dac-0e70-45b7-879a-d7293a6f68a6",
   "metadata": {},
   "outputs": [
    {
     "name": "stdout",
     "output_type": "stream",
     "text": [
      "📤 Processing Week 2 Day 1...\n",
      "📥 Received: Week 2: Day 1 – Building Your Partner's \"Love Map\" (8):\n",
      "Week 2 Day 1: Learn how to build a deeper \"Love Map\" by understanding your partner’s inner world, feelings, dreams, and influences through self-reflection and conversation.\n",
      "📤 Processing Week 2 Day 2...\n",
      "📥 Received: Week 2: Day 2 – Exploring Shared Visions of the Future (9):\n",
      "Explore the importance of discussing and sharing each partner’s vision for the future to strengthen connection and understanding over time.\n",
      "📤 Processing Week 2 Day 3...\n",
      "📥 Received: Week 2: Day 3 – Building Deeper Connection Through Small Acts:\n",
      "Discover how focusing on small, meaningful gestures and understanding your partner's positive triggers can strengthen your relationship.\n",
      "📤 Processing Week 2 Day 4...\n",
      "📥 Received: Week 2: Day 4 – Understanding and Supporting Your Girlfriend’s Stress (11):\n",
      "Week 2 Day 4: Learn to empathetically understand and support your girlfriend’s daily stresses to strengthen your bond.\n",
      "📤 Processing Week 2 Day 5...\n",
      "📥 Received: Week 2: Day 5 – Building Trust Through Her Support Circle (12):\n",
      "Week 2 Day 5 emphasizes understanding her support network by exploring her closest friends and social circle to foster deeper connection and strengthen your relationship.\n",
      "📤 Processing Week 2 Day 6...\n",
      "📥 Received: Week 2: Day 6 – Supporting Her Dreams and Building Connection:\n",
      "Week 2 Day 6 emphasizes understanding and supporting your girlfriend’s dreams to deepen your connection and foster mutual growth.\n",
      "📤 Processing Week 2 Day 7...\n",
      "📥 Received: Week 2: Day 7 – Building a Shared Future Vision (14):\n",
      "Spend time with your partner to openly discuss and align your shared vision for the future to enhance intimacy, cooperation, and relationship resilience.\n"
     ]
    }
   ],
   "source": [
    "results = []\n",
    "podcast_episode_num = 8\n",
    "# Loop through the days and summarize each one\n",
    "for title, day_text in days:\n",
    "    print(f\"📤 Processing {title}...\")\n",
    "    \n",
    "    try:\n",
    "        day_title = generic_response(\n",
    "            user_prompt_for_title(day_text, podcast_episode_num),\n",
    "            system_prompt_\n",
    "        )\n",
    "        summary = generic_response(\n",
    "            user_prompt_for_summary(day_text),\n",
    "            system_prompt_\n",
    "        )\n",
    "    except Exception as e:\n",
    "        print(f\"⚠️ Error with {title}: {e}\")\n",
    "        day_title = None\n",
    "        summary = None\n",
    "\n",
    "    results.append({\n",
    "        \"day\": day_title,\n",
    "        \"response\": summary\n",
    "    })\n",
    "    podcast_episode_num += 1\n",
    "    print(f\"📥 Received: {day_title}:\\n{summary}\")"
   ]
  },
  {
   "cell_type": "markdown",
   "id": "3d7b7ce2",
   "metadata": {},
   "source": [
    "Text to Speech"
   ]
  },
  {
   "cell_type": "code",
   "execution_count": 21,
   "id": "3222ee73",
   "metadata": {},
   "outputs": [],
   "source": [
    "# Your Azure info\n",
    "region = os.getenv('AZURE_TTS_REGION')\n",
    "key = os.getenv('AZURE_TTS_API_KEY')\n",
    "\n",
    "# Set the endpoint and headers\n",
    "\n",
    "endpoint = f\"https://{region}.tts.speech.microsoft.com/cognitiveservices/v1\"\n",
    "headers = {\n",
    "    \"Ocp-Apim-Subscription-Key\": key,\n",
    "    \"Content-Type\": \"application/ssml+xml\",\n",
    "    \"X-Microsoft-OutputFormat\": \"audio-16khz-32kbitrate-mono-mp3\",\n",
    "    \"User-Agent\": \"myTTSApp\"\n",
    "}"
   ]
  },
  {
   "cell_type": "code",
   "execution_count": 33,
   "id": "8f0c18ed",
   "metadata": {},
   "outputs": [],
   "source": [
    "def create_ssml(text, voice=\"en-US-JennyNeural\"):\n",
    "    ssml = f\"\"\"\n",
    "    <speak version='1.0' xml:lang='en-US'>\n",
    "    <voice name='{voice}'>\n",
    "        {text}\n",
    "    </voice>\n",
    "    </speak>\n",
    "    \"\"\"\n",
    "    return ssml\n",
    "\n",
    "def create_audio_file(ssml, filename):\n",
    "    # Make the POST request\n",
    "    response = requests.post(endpoint, headers=headers, data=ssml.encode('utf-8'))\n",
    "\n",
    "    # Save to file\n",
    "    if response.status_code == 200:\n",
    "        with open(filename, \"wb\") as f:\n",
    "            f.write(response.content)\n",
    "        print(f\"Audio saved as {filename}\")\n",
    "    else:\n",
    "        print(f\"Error: {response.status_code}\")\n",
    "        print(response.text)\n"
   ]
  },
  {
   "cell_type": "code",
   "execution_count": 30,
   "id": "f4484fcf-8b39-4c3f-9674-37970ed71988",
   "metadata": {},
   "outputs": [
    {
     "name": "stdout",
     "output_type": "stream",
     "text": [
      "Audio saved as output.mp3\n"
     ]
    }
   ],
   "source": [
    "text = \"week 1 day 7,  creating shared meaning\"\n",
    "ssml = create_ssml(text,\"en-US-AndrewNeural\")\n",
    "create_audio_file(ssml, \"output.mp3\")\n"
   ]
  },
  {
   "cell_type": "code",
   "execution_count": 34,
   "id": "106c567b",
   "metadata": {},
   "outputs": [
    {
     "name": "stdout",
     "output_type": "stream",
     "text": [
      "📤 Processing Week 2 Day 1...\n",
      "Audio saved as Week 2 Day 1.mp3\n",
      "📤 Processing Week 2 Day 2...\n",
      "Audio saved as Week 2 Day 2.mp3\n",
      "📤 Processing Week 2 Day 3...\n",
      "Audio saved as Week 2 Day 3.mp3\n",
      "📤 Processing Week 2 Day 4...\n",
      "Audio saved as Week 2 Day 4.mp3\n",
      "📤 Processing Week 2 Day 5...\n",
      "Audio saved as Week 2 Day 5.mp3\n",
      "📤 Processing Week 2 Day 6...\n",
      "Audio saved as Week 2 Day 6.mp3\n",
      "📤 Processing Week 2 Day 7...\n",
      "Audio saved as Week 2 Day 7.mp3\n"
     ]
    }
   ],
   "source": [
    "# Loop through the results and create audio files \n",
    "for title, day_text in days:\n",
    "    print(f\"📤 Processing {title}...\")\n",
    "    \n",
    "    try:\n",
    "        ssml = create_ssml(day_text, \"en-US-AndrewNeural\")\n",
    "        filename = f\"{title}.mp3\"\n",
    "        create_audio_file(ssml, filename)\n",
    "    except Exception as e:\n",
    "        print(f\"⚠️ Error with {title}: {e}\")  "
   ]
  },
  {
   "cell_type": "code",
   "execution_count": null,
   "id": "71261e12",
   "metadata": {},
   "outputs": [],
   "source": []
  }
 ],
 "metadata": {
  "kernelspec": {
   "display_name": "llms",
   "language": "python",
   "name": "python3"
  },
  "language_info": {
   "codemirror_mode": {
    "name": "ipython",
    "version": 3
   },
   "file_extension": ".py",
   "mimetype": "text/x-python",
   "name": "python",
   "nbconvert_exporter": "python",
   "pygments_lexer": "ipython3",
   "version": "3.11.9"
  }
 },
 "nbformat": 4,
 "nbformat_minor": 5
}
