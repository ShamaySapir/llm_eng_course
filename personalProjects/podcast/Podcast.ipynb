{
 "cells": [
  {
   "cell_type": "code",
   "execution_count": 35,
   "id": "4e2a9393-7767-488e-a8bf-27c12dca35bd",
   "metadata": {},
   "outputs": [],
   "source": [
    "# imports\n",
    "\n",
    "import os\n",
    "from dotenv import load_dotenv\n",
    "from openai import AzureOpenAI\n",
    "import requests\n",
    "import gradio as gr # oh yeah!\n"
   ]
  },
  {
   "cell_type": "code",
   "execution_count": 36,
   "id": "7b87cadb-d513-4303-baee-a37b6f938e4d",
   "metadata": {},
   "outputs": [
    {
     "name": "stdout",
     "output_type": "stream",
     "text": [
      "API key found and looks good so far!\n",
      "endpoint found and looks good so far!\n"
     ]
    }
   ],
   "source": [
    "# Load environment variables in a file called .env\n",
    "\n",
    "load_dotenv(override=True)\n",
    "api_key = os.getenv('AZURE_OPENAI_API_KEY')\n",
    "endpoint = os.getenv('ENDPOINT')\n",
    "version = os.getenv('VERSION')\n",
    "deployment = os.getenv('DEPLOYMENT_4_1nano')\n",
    "\n",
    "# Check the key\n",
    "\n",
    "if not api_key:\n",
    "    print(\"No API key was found - please head over to the troubleshooting notebook in this folder to identify & fix!\")\n",
    "# elif not api_key.startswith(\"sk-proj-\"):\n",
    "#     print(\"An API key was found, but it doesn't start sk-proj-; please check you're using the right key - see troubleshooting notebook\")\n",
    "elif api_key.strip() != api_key:\n",
    "    print(\"An API key was found, but it looks like it might have space or tab characters at the start or end - please remove them - see troubleshooting notebook\")\n",
    "else:\n",
    "    print(\"API key found and looks good so far!\")\n",
    "\n",
    "# Check the endpoint\n",
    "\n",
    "if  not endpoint:\n",
    "    print(\"No endpoint  was found\")\n",
    "else:\n",
    "    print(\"endpoint found and looks good so far!\")\n"
   ]
  },
  {
   "cell_type": "code",
   "execution_count": 37,
   "id": "019974d9-f3ad-4a8a-b5f9-0a3719aea2d3",
   "metadata": {},
   "outputs": [],
   "source": [
    "client = AzureOpenAI(\n",
    "    azure_endpoint=endpoint, \n",
    "    api_key=api_key,\n",
    "    api_version=version\n",
    ")"
   ]
  },
  {
   "cell_type": "markdown",
   "id": "ec72cb47",
   "metadata": {},
   "source": [
    "Read the file"
   ]
  },
  {
   "cell_type": "code",
   "execution_count": null,
   "id": "24bfbac4",
   "metadata": {},
   "outputs": [],
   "source": [
    "import re\n",
    "\n",
    "file_name = \"relationship2.txt\"\n",
    "\n",
    "with open(file_name, \"r\", encoding=\"utf-8\") as f:\n",
    "    full_text = f.read()"
   ]
  },
  {
   "cell_type": "code",
   "execution_count": null,
   "id": "d4367bc9",
   "metadata": {},
   "outputs": [],
   "source": [
    "def generic_response(user_prompt, system_prompt, model=deployment):\n",
    "    response = client.chat.completions.create(\n",
    "        model=model,\n",
    "        messages=[\n",
    "            {\n",
    "                \"role\": \"system\",\n",
    "                \"content\": system_prompt\n",
    "            },\n",
    "            {\n",
    "                \"role\": \"user\",\n",
    "                \"content\": user_prompt\n",
    "            }\n",
    "        ],\n",
    "    )\n",
    "    return response.choices[0].message.content.strip()"
   ]
  },
  {
   "cell_type": "markdown",
   "id": "806bb817",
   "metadata": {},
   "source": [
    "First thing is to transalte it to english and add before each part the week and day according to what's it says in the format:\n",
    "Week X Day Y"
   ]
  },
  {
   "cell_type": "code",
   "execution_count": null,
   "id": "98e21b22",
   "metadata": {},
   "outputs": [],
   "source": [
    "def translate_week_episodes(text):\n",
    "    system_prompt = \"You are a helpful assistant that gets text in Hebrew \" \\\n",
    "    \"and translates it to English and can do requested changes to the text.\"\n",
    "\n",
    "    user_prompt =\"Translate the following text to English and according to the text, add the line Week X Day Y \"\n",
    "    user_prompt += \"\\n\\n\" + text\n",
    "\n",
    "    # Call the Azure OpenAI API\n",
    "    response = generic_response(user_prompt, system_prompt)\n",
    "    return response"
   ]
  },
  {
   "cell_type": "markdown",
   "id": "bc3549fe",
   "metadata": {},
   "source": [
    "getting full text with separation by pattern - divide it to different days"
   ]
  },
  {
   "cell_type": "code",
   "execution_count": null,
   "id": "87700e55",
   "metadata": {},
   "outputs": [],
   "source": [
    "def divide_episodes(text): \n",
    "    # this is a regex pattern to split the text into parts\n",
    "    pattern = r'(Week\\s+\\d+\\s+Day\\s+\\d+)'\n",
    "    parts = re.split(pattern, text)\n",
    "\n",
    "    days = []\n",
    "    for i in range(1, len(parts), 2):\n",
    "        title = parts[i].strip()\n",
    "        content = parts[i + 1].strip()\n",
    "        days.append((title, f\"{title}\\n{content}\"))\n",
    "    return days\n"
   ]
  },
  {
   "cell_type": "markdown",
   "id": "432bd723",
   "metadata": {},
   "source": [
    "Each day will get a title and a summarization"
   ]
  },
  {
   "cell_type": "code",
   "execution_count": 13,
   "id": "9324b0f9",
   "metadata": {},
   "outputs": [],
   "source": [
    "system_prompt_ = \"You are a helpful assistant. \\\n",
    "    For each Week and Day, summarize the key information briefly.\"\n",
    "\n",
    "def user_prompt_for_title(day_text, z):\n",
    "    user_prompt = f\"Please summarize the following content into a single line \\\n",
    "    to be used as a podcast episode title, \\\n",
    "        in the format: Week X: Day Y – NAME (Z). \\\n",
    "            X is the Week number, Y is the day number \\\n",
    "            and Z is the value {z}. \\\n",
    "            NAME is the episode title you create.\\n\"\n",
    "    user_prompt += day_text\n",
    "    return user_prompt\n",
    "\n",
    "def user_prompt_for_summary(day_text):\n",
    "    user_prompt = f\"Please summarize the following content into a single line \\\n",
    "    to be used as a podcast episode summary.\"\n",
    "    user_prompt += day_text\n",
    "    return user_prompt"
   ]
  },
  {
   "cell_type": "code",
   "execution_count": 14,
   "id": "00743dac-0e70-45b7-879a-d7293a6f68a6",
   "metadata": {},
   "outputs": [
    {
     "name": "stdout",
     "output_type": "stream",
     "text": [
      "📤 Processing Week 2 Day 1...\n",
      "📥 Received: Week 2: Day 1 – Building Your Partner's \"Love Map\" (8):\n",
      "Week 2 Day 1: Learn how to build a deeper \"Love Map\" by understanding your partner’s inner world, feelings, dreams, and influences through self-reflection and conversation.\n",
      "📤 Processing Week 2 Day 2...\n",
      "📥 Received: Week 2: Day 2 – Exploring Shared Visions of the Future (9):\n",
      "Explore the importance of discussing and sharing each partner’s vision for the future to strengthen connection and understanding over time.\n",
      "📤 Processing Week 2 Day 3...\n",
      "📥 Received: Week 2: Day 3 – Building Deeper Connection Through Small Acts:\n",
      "Discover how focusing on small, meaningful gestures and understanding your partner's positive triggers can strengthen your relationship.\n",
      "📤 Processing Week 2 Day 4...\n",
      "📥 Received: Week 2: Day 4 – Understanding and Supporting Your Girlfriend’s Stress (11):\n",
      "Week 2 Day 4: Learn to empathetically understand and support your girlfriend’s daily stresses to strengthen your bond.\n",
      "📤 Processing Week 2 Day 5...\n",
      "📥 Received: Week 2: Day 5 – Building Trust Through Her Support Circle (12):\n",
      "Week 2 Day 5 emphasizes understanding her support network by exploring her closest friends and social circle to foster deeper connection and strengthen your relationship.\n",
      "📤 Processing Week 2 Day 6...\n",
      "📥 Received: Week 2: Day 6 – Supporting Her Dreams and Building Connection:\n",
      "Week 2 Day 6 emphasizes understanding and supporting your girlfriend’s dreams to deepen your connection and foster mutual growth.\n",
      "📤 Processing Week 2 Day 7...\n",
      "📥 Received: Week 2: Day 7 – Building a Shared Future Vision (14):\n",
      "Spend time with your partner to openly discuss and align your shared vision for the future to enhance intimacy, cooperation, and relationship resilience.\n"
     ]
    }
   ],
   "source": [
    "results = []\n",
    "podcast_episode_num = 8\n",
    "# Loop through the days and summarize each one\n",
    "for title, day_text in days:\n",
    "    print(f\"📤 Processing {title}...\")\n",
    "    \n",
    "    try:\n",
    "        day_title = generic_response(\n",
    "            user_prompt_for_title(day_text, podcast_episode_num),\n",
    "            system_prompt_\n",
    "        )\n",
    "        summary = generic_response(\n",
    "            user_prompt_for_summary(day_text),\n",
    "            system_prompt_\n",
    "        )\n",
    "    except Exception as e:\n",
    "        print(f\"⚠️ Error with {title}: {e}\")\n",
    "        day_title = None\n",
    "        summary = None\n",
    "\n",
    "    results.append({\n",
    "        \"day\": day_title,\n",
    "        \"response\": summary\n",
    "    })\n",
    "    podcast_episode_num += 1\n",
    "    print(f\"📥 Received: {day_title}:\\n{summary}\")"
   ]
  },
  {
   "cell_type": "markdown",
   "id": "3d7b7ce2",
   "metadata": {},
   "source": [
    "Text to Speech"
   ]
  },
  {
   "cell_type": "code",
   "execution_count": 21,
   "id": "3222ee73",
   "metadata": {},
   "outputs": [],
   "source": [
    "# Your Azure info\n",
    "region = os.getenv('AZURE_TTS_REGION')\n",
    "key = os.getenv('AZURE_TTS_API_KEY')\n",
    "\n",
    "# Set the endpoint and headers\n",
    "\n",
    "endpoint = f\"https://{region}.tts.speech.microsoft.com/cognitiveservices/v1\"\n",
    "headers = {\n",
    "    \"Ocp-Apim-Subscription-Key\": key,\n",
    "    \"Content-Type\": \"application/ssml+xml\",\n",
    "    \"X-Microsoft-OutputFormat\": \"audio-16khz-32kbitrate-mono-mp3\",\n",
    "    \"User-Agent\": \"myTTSApp\"\n",
    "}"
   ]
  },
  {
   "cell_type": "code",
   "execution_count": 33,
   "id": "8f0c18ed",
   "metadata": {},
   "outputs": [],
   "source": [
    "def create_ssml(text, voice=\"en-US-JennyNeural\"):\n",
    "    ssml = f\"\"\"\n",
    "    <speak version='1.0' xml:lang='en-US'>\n",
    "    <voice name='{voice}'>\n",
    "        {text}\n",
    "    </voice>\n",
    "    </speak>\n",
    "    \"\"\"\n",
    "    return ssml\n",
    "\n",
    "def create_audio_file(ssml, filename):\n",
    "    # Make the POST request\n",
    "    response = requests.post(endpoint, headers=headers, data=ssml.encode('utf-8'))\n",
    "\n",
    "    # Save to file\n",
    "    if response.status_code == 200:\n",
    "        with open(filename, \"wb\") as f:\n",
    "            f.write(response.content)\n",
    "        print(f\"Audio saved as {filename}\")\n",
    "    else:\n",
    "        print(f\"Error: {response.status_code}\")\n",
    "        print(response.text)\n"
   ]
  },
  {
   "cell_type": "code",
   "execution_count": 30,
   "id": "f4484fcf-8b39-4c3f-9674-37970ed71988",
   "metadata": {},
   "outputs": [
    {
     "name": "stdout",
     "output_type": "stream",
     "text": [
      "Audio saved as output.mp3\n"
     ]
    }
   ],
   "source": [
    "text = \"week 1 day 7,  creating shared meaning\"\n",
    "ssml = create_ssml(text,\"en-US-AndrewNeural\")\n",
    "create_audio_file(ssml, \"output.mp3\")\n"
   ]
  },
  {
   "cell_type": "code",
   "execution_count": 34,
   "id": "106c567b",
   "metadata": {},
   "outputs": [
    {
     "name": "stdout",
     "output_type": "stream",
     "text": [
      "📤 Processing Week 2 Day 1...\n",
      "Audio saved as Week 2 Day 1.mp3\n",
      "📤 Processing Week 2 Day 2...\n",
      "Audio saved as Week 2 Day 2.mp3\n",
      "📤 Processing Week 2 Day 3...\n",
      "Audio saved as Week 2 Day 3.mp3\n",
      "📤 Processing Week 2 Day 4...\n",
      "Audio saved as Week 2 Day 4.mp3\n",
      "📤 Processing Week 2 Day 5...\n",
      "Audio saved as Week 2 Day 5.mp3\n",
      "📤 Processing Week 2 Day 6...\n",
      "Audio saved as Week 2 Day 6.mp3\n",
      "📤 Processing Week 2 Day 7...\n",
      "Audio saved as Week 2 Day 7.mp3\n"
     ]
    }
   ],
   "source": [
    "# Loop through the results and create audio files \n",
    "for title, day_text in days:\n",
    "    print(f\"📤 Processing {title}...\")\n",
    "    \n",
    "    try:\n",
    "        ssml = create_ssml(day_text, \"en-US-AndrewNeural\")\n",
    "        filename = f\"{title}.mp3\"\n",
    "        create_audio_file(ssml, filename)\n",
    "    except Exception as e:\n",
    "        print(f\"⚠️ Error with {title}: {e}\")  "
   ]
  },
  {
   "cell_type": "code",
   "execution_count": 46,
   "id": "5b11d30a",
   "metadata": {},
   "outputs": [
    {
     "name": "stdout",
     "output_type": "stream",
     "text": [
      "* Running on local URL:  http://127.0.0.1:7865\n",
      "\n",
      "To create a public link, set `share=True` in `launch()`.\n"
     ]
    },
    {
     "data": {
      "text/html": [
       "<div><iframe src=\"http://127.0.0.1:7865/\" width=\"100%\" height=\"500\" allow=\"autoplay; camera; microphone; clipboard-read; clipboard-write;\" frameborder=\"0\" allowfullscreen></iframe></div>"
      ],
      "text/plain": [
       "<IPython.core.display.HTML object>"
      ]
     },
     "metadata": {},
     "output_type": "display_data"
    },
    {
     "data": {
      "text/plain": []
     },
     "execution_count": 46,
     "metadata": {},
     "output_type": "execute_result"
    }
   ],
   "source": [
    "\n",
    "view = gr.Interface(\n",
    "    fn=translate_episode,\n",
    "    inputs=[gr.Textbox(label=\"Your message:\")],\n",
    "    outputs=[gr.Markdown(label=\"Response:\")],\n",
    "    flagging_mode=\"never\"\n",
    ")\n",
    "view.launch()"
   ]
  },
  {
   "cell_type": "code",
   "execution_count": null,
   "id": "71261e12",
   "metadata": {},
   "outputs": [],
   "source": []
  }
 ],
 "metadata": {
  "kernelspec": {
   "display_name": "llms",
   "language": "python",
   "name": "python3"
  },
  "language_info": {
   "codemirror_mode": {
    "name": "ipython",
    "version": 3
   },
   "file_extension": ".py",
   "mimetype": "text/x-python",
   "name": "python",
   "nbconvert_exporter": "python",
   "pygments_lexer": "ipython3",
   "version": "3.11.9"
  }
 },
 "nbformat": 4,
 "nbformat_minor": 5
}
