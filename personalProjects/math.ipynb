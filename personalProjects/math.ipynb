{
 "cells": [
  {
   "cell_type": "code",
   "execution_count": 1,
   "id": "7471ea95",
   "metadata": {},
   "outputs": [
    {
     "name": "stdout",
     "output_type": "stream",
     "text": [
      "4.47213595499958\n",
      "5.385164807134504\n",
      "2.23606797749979\n"
     ]
    }
   ],
   "source": [
    "import math\n",
    "\n",
    "twenty = 20\n",
    "twenty_sqrt = math.sqrt(twenty)\n",
    "print(twenty_sqrt)\n",
    "\n",
    "twenty_nine = 29\n",
    "twenty_nine_sqrt = math.sqrt(twenty_nine)\n",
    "print(twenty_nine_sqrt)\n",
    "\n",
    "five = 5\n",
    "five_sqrt = math.sqrt(five)\n",
    "print(five_sqrt)\n",
    "\n",
    "six = 6\n",
    "two = 2"
   ]
  },
  {
   "cell_type": "code",
   "execution_count": 2,
   "id": "ab3227ca",
   "metadata": {},
   "outputs": [
    {
     "name": "stdout",
     "output_type": "stream",
     "text": [
      "9.046684369816937\n"
     ]
    }
   ],
   "source": [
    "s_ = six + twenty_sqrt + twenty_nine_sqrt + five_sqrt\n",
    "s = s_ / two\n",
    "print(s)"
   ]
  },
  {
   "cell_type": "code",
   "execution_count": 3,
   "id": "361bc124",
   "metadata": {},
   "outputs": [],
   "source": [
    "A = s - six\n",
    "B = s - twenty_sqrt\n",
    "C = s - twenty_nine_sqrt\n",
    "D = s - five_sqrt"
   ]
  },
  {
   "cell_type": "code",
   "execution_count": 4,
   "id": "ebcb4728",
   "metadata": {},
   "outputs": [
    {
     "name": "stdout",
     "output_type": "stream",
     "text": [
      "347.5549442140353\n"
     ]
    }
   ],
   "source": [
    "duplicate = A * B * C * D\n",
    "print(duplicate)"
   ]
  },
  {
   "cell_type": "code",
   "execution_count": 5,
   "id": "be2dfda2",
   "metadata": {},
   "outputs": [
    {
     "name": "stdout",
     "output_type": "stream",
     "text": [
      "18.64282554265944\n"
     ]
    }
   ],
   "source": [
    "ans = math.sqrt(duplicate)\n",
    "print(ans)"
   ]
  },
  {
   "cell_type": "code",
   "execution_count": null,
   "id": "3e0d03ee",
   "metadata": {},
   "outputs": [],
   "source": []
  }
 ],
 "metadata": {
  "kernelspec": {
   "display_name": "llms",
   "language": "python",
   "name": "python3"
  },
  "language_info": {
   "codemirror_mode": {
    "name": "ipython",
    "version": 3
   },
   "file_extension": ".py",
   "mimetype": "text/x-python",
   "name": "python",
   "nbconvert_exporter": "python",
   "pygments_lexer": "ipython3",
   "version": "3.11.9"
  }
 },
 "nbformat": 4,
 "nbformat_minor": 5
}
