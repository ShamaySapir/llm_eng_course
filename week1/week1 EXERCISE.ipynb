{
 "cells": [
  {
   "cell_type": "markdown",
   "id": "fe12c203-e6a6-452c-a655-afb8a03a4ff5",
   "metadata": {},
   "source": [
    "# End of week 1 exercise\n",
    "\n",
    "To demonstrate your familiarity with OpenAI API, and also Ollama, build a tool that takes a technical question,  \n",
    "and responds with an explanation. This is a tool that you will be able to use yourself during the course!"
   ]
  },
  {
   "cell_type": "code",
   "execution_count": 1,
   "id": "c1070317-3ed9-4659-abe3-828943230e03",
   "metadata": {},
   "outputs": [],
   "source": [
    "# imports\n",
    "import os\n",
    "from openai import AzureOpenAI\n",
    "from dotenv import load_dotenv\n",
    "import ollama\n"
   ]
  },
  {
   "cell_type": "code",
   "execution_count": 2,
   "id": "a4bd66b2",
   "metadata": {},
   "outputs": [],
   "source": [
    "# Load environment variables in a file called .env\n",
    "\n",
    "load_dotenv(override=True)\n",
    "api_key = os.getenv('AZURE_OPENAI_API_KEY')\n",
    "endpoint = os.getenv('ENDPOINT')\n",
    "version = os.getenv('VERSION')\n",
    "\n",
    "# constants\n",
    "\n",
    "MODEL_GPT = os.getenv('DEPLOYMENT')\n",
    "MODEL_LLAMA = 'llama3.2'\n"
   ]
  },
  {
   "cell_type": "code",
   "execution_count": 3,
   "id": "a8d7923c-5f28-4c30-8556-342d7c8497c1",
   "metadata": {},
   "outputs": [],
   "source": [
    "# set up environment\n",
    "client_GPT = AzureOpenAI(\n",
    "    azure_endpoint=endpoint, \n",
    "    api_key=api_key,\n",
    "    api_version=version\n",
    ")"
   ]
  },
  {
   "cell_type": "code",
   "execution_count": 4,
   "id": "3f0d0137-52b0-47a8-81a8-11a90a010798",
   "metadata": {},
   "outputs": [],
   "source": [
    "# here is the question; type over this to ask something new\n",
    "\n",
    "question = \"\"\"\n",
    "Please explain me how to be happy. be out of the box and creative. try be funny and use metaphors.\n",
    "If you can, use a poem or a song to express your ideas.\n",
    "\"\"\""
   ]
  },
  {
   "cell_type": "code",
   "execution_count": 5,
   "id": "fce9efde",
   "metadata": {},
   "outputs": [],
   "source": [
    "messages = [\n",
    "    {\"role\": \"system\", \"content\": \"You are my copilot, tutor, and friend. Please respond in a friendly and engaging tone.\"},\n",
    "    {\"role\": \"user\", \"content\": question}\n",
    "]"
   ]
  },
  {
   "cell_type": "code",
   "execution_count": 6,
   "id": "60ce7000-a4a5-4cce-a261-e75ef45063b4",
   "metadata": {},
   "outputs": [
    {
     "name": "stdout",
     "output_type": "stream",
     "text": [
      "Oh, absolutely! Let’s embark on a whimsical journey to happiness, where rainbows sprinkle confetti and clouds tickle your funny bone! 🌈☁️\n",
      "\n",
      "### The Happiness Recipe\n",
      "\n",
      "Imagine happiness as a strange dish served at a quirky diner. The chef (that’s you!) gathers these wacky ingredients:\n",
      "\n",
      "1. **Sprinkles of Gratitude** - Just like how sprinkles can magically transform a plain cupcake, focusing on the little things—like that one sunny day or your dog’s silly dance when you say “walk”—adds flavor to life. \n",
      "\n",
      "2. **A Splash of Adventure** - Think of a rubber duck wielding a sword on a pirate ship! Go on unexpected escapades, even if it’s an impromptu dance break in your living room. Life’s a grand sea, and you’re the captain!\n",
      "\n",
      "3. **A Pinch of Self-Compassion** - Envision a warm, fluffy marshmallow hugging you tight when you’re feeling down. Embrace your quirks and flaws because they make you unique, like a snowflake in a blizzard of identical donuts. \n",
      "\n",
      "4. **Bubbles of Connection** - Now imagine you’re a social butterfly wearing a top hat, floating on gossamer wings! Surround yourself with friends—both old and new—who make you laugh like a hyena in a comedy club. \n",
      "\n",
      "5. **A Dash of Mindfulness** - Picture yourself as a wise old turtle, soaking up the sun and savoring every moment. Being present transforms your life’s mundane moments into extraordinary masterpieces, like turning spaghetti into an art installation!\n",
      "\n",
      "### The Happiness Song: “Dance Like Quirk!”\n",
      "\n",
      "*(To be sung with vigor!)*\n",
      "\n",
      "🎶 \n",
      "**Verse 1:** \n",
      "When life gives you lemons, make a pie,  \n",
      "Or a wacky hat, oh my, oh my!  \n",
      "Painted smiles on the wall, oh so bright,  \n",
      "Dance like a disco ball at midnight!  \n",
      "\n",
      "**Chorus:**  \n",
      "Twist and twirl, let your spirit soar,  \n",
      "Life’s not a chore—unlock that door!  \n",
      "Giggle like a kid in a candy store,  \n",
      "Happiness is here, so much to explore!  \n",
      "\n",
      "**Verse 2:**  \n",
      "Wear socks that clash, let your colors fly,  \n",
      "Embrace the oddities, just give them a try!  \n",
      "With laughter like bubbles, rise to the sky,  \n",
      "Be the marshmallow in life’s s’mores supply!  \n",
      "\n",
      "**Chorus:**  \n",
      "Twist and twirl, let your spirit soar,  \n",
      "Life’s not a chore—unlock that door!  \n",
      "Giggle like a kid in a candy store,  \n",
      "Happiness is here, so much to explore!  \n",
      "🎶 \n",
      "\n",
      "### Final Thoughts\n",
      "\n",
      "Remember, happiness isn’t a destination; it’s a magnificent rollercoaster full of loops, drops, and the occasional upside-down spin! 🚀 So, buckle up, take a deep breath, and let the journey be as delightful as a cat in a sunny window. \n",
      "\n",
      "May your heart be light, your laughter be loud, and your life be a vibrant, ever-changing tapestry. You’ve got this! 😊\n"
     ]
    }
   ],
   "source": [
    "# Get gpt-4o-mini to answer, with streaming\n",
    "\n",
    "response = client_GPT.chat.completions.create(\n",
    "    model=MODEL_GPT,\n",
    "    messages=messages\n",
    ")\n",
    "print(response.choices[0].message.content)"
   ]
  },
  {
   "cell_type": "code",
   "execution_count": 7,
   "id": "8f7c8ea8-4082-4ad0-8751-3301adcf6538",
   "metadata": {},
   "outputs": [
    {
     "name": "stdout",
     "output_type": "stream",
     "text": [
      "Buckle up, friend! We're about to take a wild ride into the land of happiness!\n",
      "\n",
      "As your trusty copilot, I've got a treasure trove of unconventional tips to help you find that elusive smile. So, grab your sense of adventure and let's dive in!\n",
      "\n",
      "**Happiness is like a puzzle with missing pieces**\n",
      "\n",
      "You see, life is like a jigsaw puzzle, but some pieces are MIA (Missing Important Pieces of Joy). That's where the magic begins! To fill those gaps, you need to create your own happiness. It's time to get crafty and make those missing pieces sparkle!\n",
      "\n",
      "**Tip #1: Dance in the rain**\n",
      "\n",
      "Just like in that iconic song \"Singin' in the Rain,\" let go of your worries and twirl in the downpour. Literally! Put on your favorite tunes, grab a umbrella (or not), and splash around in the puddles. Who cares about getting wet? You're having too much fun to worry about it!\n",
      "\n",
      "**Tip #2: Eat your feelings**\n",
      "\n",
      "When you feel down, don't just eat ice cream (although, let's be real, that's always a great idea). No, no! Take a bite out of happiness with the \"Feelings Food Truck\" ! Try some comfort food, like a warm hug in a bowl. Make it extra special by adding your favorite toppings – like a sprinkle of positivity or a pinch of self-love.\n",
      "\n",
      "**Tip #3: Wear your heart on your sleeve (literally)**\n",
      "\n",
      "Remember that fabulous phrase, \"Wear your heart on your sleeve\"? It's not just about being emotional; it's about showcasing your awesomeness! Rock those colorful scarves, statement earrings, or bold socks. When you look good, you feel good! And when you feel good, you're more likely to spread happiness wherever you go!\n",
      "\n",
      "**Tip #4: Write love letters to yourself**\n",
      "\n",
      "In the style of Rumi's \"Love Letter to Myself\":\n",
      "\n",
      "\"You are the sun that shines in my soul,\n",
      "The moon that glows with gentle control.\n",
      "You are the waves that crash on the shore,\n",
      "The whispers that I've been waiting for.\n",
      "\n",
      "Your kindness is a work of art,\n",
      "A masterpiece that beats within your heart.\n",
      "Don't be too hard on yourself, my dear one,\n",
      "For you are enough – just as you've begun.\"\n",
      "\n",
      "Take time to write love letters to yourself. Express gratitude, kind words, and affirmations. You'll feel like the queen/king of happiness!\n",
      "\n",
      "**Tip #5: Practice \"Happiness Hacking\"**\n",
      "\n",
      "Imagine a superpower that lets you hack into happiness whenever you want it! This is your secret sauce:\n",
      "\n",
      "* When feeling stressed, take 10 deep breaths.\n",
      "* Count backwards from 100 while twirling around (yes, really!).\n",
      "* Visualize a bright, sunny day filled with laughter and good vibes.\n",
      "\n",
      "When the mood strikes, use these \"Happiness Hacks\" to reboot your happiness levels!\n",
      "\n",
      "**And the final tip...**\n",
      "\n",
      "The most important thing? **Make mistakes, fail, and try again**\n",
      "\n",
      "As that fantastic song goes: \"Don't stop believin' hold on to that feelin'\" ( Journey's iconic anthem). When life gets tough, remember that every mistake is an opportunity to learn and grow. So go ahead, take a chance, make a silly mistake, and then... laugh at yourself!\n",
      "\n",
      "There you have it! The most unconventional, out-of-the-box happiness guide ever created (or so I claim . Remember, my friend, happiness is like a garden – it needs nurturing, care, and a pinch of creativity. Don't be afraid to get a little messy, have fun, and create your own masterpiece!\n",
      "\n",
      "How was that? Ready to spread some happiness and make the world a brighter place?\n"
     ]
    }
   ],
   "source": [
    "# Get Llama 3.2 to answer\n",
    "response = ollama.chat(model=MODEL_LLAMA, messages=messages)\n",
    "print(response['message']['content'])"
   ]
  },
  {
   "cell_type": "code",
   "execution_count": null,
   "id": "e4cd72c8",
   "metadata": {},
   "outputs": [],
   "source": [
    "# Create a streaming response for client_GPT\n",
    "def stream_response(messages):\n",
    "    \"\"\"\n",
    "    Generate a streaming response using client_GPT.\n",
    "\n",
    "    Args:\n",
    "        messages (list): List of messages to send to the GPT model.\n",
    "\n",
    "    Returns:\n",
    "        None\n",
    "    \"\"\"\n",
    "    stream = client_GPT.chat.completions.create(\n",
    "        model=MODEL_GPT,\n",
    "        messages=messages,\n",
    "        stream=True\n",
    "    )\n",
    "\n",
    "    response = \"\"\n",
    "    for chunk in stream:\n",
    "        try:\n",
    "            # Check if 'choices' exists and is not empty\n",
    "            if chunk.choices and len(chunk.choices) > 0:\n",
    "                delta_content = chunk.choices[0].delta.content\n",
    "                if delta_content:\n",
    "                    response += delta_content\n",
    "                    print(delta_content, end='', flush=True)  # Stream the response to the console\n",
    "        except (IndexError, AttributeError) as e:\n",
    "            print(f\"⚠️ Error processing chunk: {e}\")\n",
    "\n",
    "    return response"
   ]
  }
 ],
 "metadata": {
  "kernelspec": {
   "display_name": "llms",
   "language": "python",
   "name": "python3"
  },
  "language_info": {
   "codemirror_mode": {
    "name": "ipython",
    "version": 3
   },
   "file_extension": ".py",
   "mimetype": "text/x-python",
   "name": "python",
   "nbconvert_exporter": "python",
   "pygments_lexer": "ipython3",
   "version": "3.11.9"
  }
 },
 "nbformat": 4,
 "nbformat_minor": 5
}
