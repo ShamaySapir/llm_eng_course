{
 "cells": [
  {
   "cell_type": "markdown",
   "id": "91279c35",
   "metadata": {},
   "source": [
    "<table style=\"margin: 0; text-align: left; background-color: #050A0E; border: 1px solid lightblue;\">\n",
    "    <tr>\n",
    "        <td style=\"direction: rtl; text-align: right; color: #FFF8E7; \">\n",
    "            <h2 style=\"color:#FFF8E7;\">JobTonic</h2>\n",
    "            <span style=\"color:#FFF8E7; font-size: 12px\">\n",
    "                כי חיפוש עבודה ראוי להרגיש כמו התחלה חדשה, לא כמו מסע מייגע.\n",
    "                במקום להיסחף בגלים של מידע, \n",
    "                תנו לנו להיות הרוח שמכוונת את המפרש.\n",
    "                הכלי\n",
    "                 מזקק עבורכם את מהות כל משרה — בבהירות, במהירות, ובדיוק שמחזיר לכם שליטה.\n",
    "                זה לא רק לחפש עבודה. זה לדייק מטרה. זה להתקדם עם ראש צלול, לב פתוח, וביטחון אמיתי.\n",
    "                בכל שלב בדרך – אנחנו האנרגיה שמזיזה אתכם קדימה.\n",
    "            </span>\n",
    "        </td>\n",
    "<td style=\"width: 290px; height: 200px; vertical-align: middle;\">\n",
    "            <img src=\"../JobTonic.png\" style=\"width: 100%; height: 100%; display: block;\" />\n",
    "        </td>\n",
    "    </tr>\n",
    "</table>"
   ]
  },
  {
   "cell_type": "code",
   "execution_count": null,
   "id": "b9f46285",
   "metadata": {},
   "outputs": [],
   "source": [
    "from selenium import webdriver\n",
    "from selenium.webdriver.chrome.service import Service\n",
    "from webdriver_manager.chrome import ChromeDriverManager\n",
    "from bs4 import BeautifulSoup\n",
    "import time\n",
    "from openai import OpenAI"
   ]
  },
  {
   "cell_type": "code",
   "execution_count": null,
   "id": "b5a12260",
   "metadata": {},
   "outputs": [],
   "source": [
    "# Constants\n",
    "\n",
    "OLLAMA_API = \"http://localhost:11434/api/chat\"\n",
    "HEADERS = {\"Content-Type\": \"application/json\"}\n",
    "MODEL = \"llama3.2\""
   ]
  },
  {
   "cell_type": "code",
   "execution_count": null,
   "id": "ba200f5f",
   "metadata": {},
   "outputs": [],
   "source": [
    "# A class to represent a Webpage\n",
    "\n",
    "# Some websites need you to use proper headers when fetching them:\n",
    "headers = {\n",
    " \"User-Agent\": \"Mozilla/5.0 (Windows NT 10.0; Win64; x64) AppleWebKit/537.36 (KHTML, like Gecko) Chrome/117.0.0.0 Safari/537.36\"\n",
    "}\n",
    "\n",
    "class Website:\n",
    "    \"\"\"\n",
    "    A utility class to represent a Website that we have scraped, now with Selenium for dynamic websites.\n",
    "    \"\"\"\n",
    "\n",
    "    def __init__(self, url):\n",
    "        self.url = url\n",
    "\n",
    "        # Set up Selenium WebDriver with Chrome\n",
    "        options = webdriver.ChromeOptions()\n",
    "        options.add_argument('--headless')  # Run in headless mode\n",
    "        options.add_argument('--disable-gpu')\n",
    "        driver = webdriver.Chrome(service=Service(ChromeDriverManager().install()), options=options)\n",
    "\n",
    "        # Load the webpage\n",
    "        driver.get(url)\n",
    "        time.sleep(5)  # Wait for the page to load completely\n",
    "\n",
    "        # Get the page source and parse it with BeautifulSoup\n",
    "        soup = BeautifulSoup(driver.page_source, 'html.parser')\n",
    "        driver.quit()  # Close the browser\n",
    "\n",
    "        self.title = soup.title.string if soup.title else \"No title found\"\n",
    "        if soup.body:\n",
    "            for irrelevant in soup.body([\"script\", \"style\", \"img\", \"input\"]):\n",
    "                irrelevant.decompose()\n",
    "            self.text = soup.body.get_text(separator=\"\\n\", strip=True)\n",
    "        else:\n",
    "            self.text = \"\"\n",
    "\n",
    "        links = [link.get('href') for link in soup.find_all('a')]\n",
    "        self.links = [link for link in links if link]\n",
    "\n",
    "    def get_contents(self):\n",
    "        return f\"Webpage Title:\\n{self.title}\\nWebpage Contents:\\n{self.text}\\n\\n\""
   ]
  },
  {
   "cell_type": "code",
   "execution_count": 8,
   "id": "26f344e0",
   "metadata": {},
   "outputs": [],
   "source": [
    "# The system prompt for the careers page\n",
    "find_careers_system_prompt = \"You are provided with a list of links found \\\n",
    "on a webpage. You are able to find the link that is most likely to be a Careers page.\"\n",
    "find_careers_system_prompt += \"You should respond a single link in the following format: \\\n",
    "    https://another.full.url/careers\"\n",
    "\n",
    "# The system prompt for jobs links\n",
    "job_link_system_prompt = \"You are provided with a list of links found on a webpage. \\\n",
    "You are able to decide which of the links would be most relevant to a keyword that was provided, \\\n",
    "\\n\"\n",
    "job_link_system_prompt += \"You should respond in JSON as in this example:\"\n",
    "job_link_system_prompt += \"\"\"\n",
    "{\n",
    "    \"links\": [\n",
    "        {\"job title\": \"Software Engineer\", \"url\": \"https://full.url/goes/here/software-engineer\"},\n",
    "        {\"job title\": \"Data Scientist\", \"url\": \"https://full.url/goes/here/data-scientist\"},\n",
    "        {\"job title\": \"Product Manager\", \"url\": \"https://full.url/goes/here/product-manager\"},\n",
    "        {\"job title\": \"Data Analyst\", \"url\": \"https://full.url/goes/here/data-analyst\"},\n",
    "        {\"job title\": \"Web Developer\", \"url\": \"https://full.url/goes/here/web-developer\"}\n",
    "    ]\n",
    "}\n",
    "\"\"\"\n",
    "job_link_system_prompt += \"\\nIn the case that there are no relevant links, respond with an empty JSON object: {}\"\n",
    "\n",
    "# The system prompt for job postings\n",
    "job_posting_system_prompt = (\n",
    "    \"You are an assistant specialized in summarizing job postings.\\n\"\n",
    "    \"Your task is to extract and clearly summarize three things from the input job description:\\n\"\n",
    "    \"1. How the company describes itself.\\n\"\n",
    "    \"2. What the day-to-day responsibilities of the role are.\\n\"\n",
    "    \"3. What the qualifications or requirements are to apply.\\n\\n\"\n",
    "    \"Write the summary in plain, professional English. Keep each section concise (1–2 sentences).\\n\"\n",
    "    \"Do not copy text verbatim unless necessary. Structure your response under the following headers:\\n\"\n",
    "    \"- About the Company\\n\"\n",
    "    \"- Role Responsibilities\\n\"\n",
    "    \"- Qualifications and Requirements\\n\"\n",
    "    \"in addition to the following fields:\\n\"\n",
    "    \"- Company Name\\n\"\n",
    "    \"- Company URL\\n\"\n",
    "    \"- Company Location\\n\"\n",
    "    \"- Company Size\\n\"\n",
    "    \"- Company Website\\n\"\n",
    "    \"- Company Founded\\n\"\n",
    "    \"- Company Mission\\n\"\n",
    "    \"- Company Values\\n\"\n",
    ")\n",
    "job_posting_system_prompt += \"\\nYou should respond in JSON as in this example:\"\n",
    "job_posting_system_prompt += \"\"\"\n",
    "{\n",
    "    \"company_name\": \"Tech Innovations Inc.\",\n",
    "    \"job_url\": \"https://full.url/goes/here/software-engineer\",\n",
    "    \"company_location\": \"San Francisco, CA\",\n",
    "    \"company_size\": \"500+ employees\",\n",
    "    \"company_website\": \"https://www.techinnovations.com\",\n",
    "    \"company_founded\": \"2010\",\n",
    "    \"company_mission\": \"To innovate and simplify technology for everyone.\",\n",
    "    \"company_values\": \"Innovation, Integrity, Customer Focus\",\n",
    "    \"company_description\": \"The company is a leading provider of innovative technology solutions.\",\n",
    "    \"role_responsibilities\": \"The role involves developing software applications and collaborating with cross-functional teams.\",\n",
    "    \"qualifications_requirements\": \"Candidates should have a degree in Computer Science and experience with Python.\"\n",
    "}\n",
    "\"\"\"\n",
    "job_posting_system_prompt += \"\\nIn the case that there are no relevant links, respond with an empty JSON object: {}\""
   ]
  },
  {
   "cell_type": "code",
   "execution_count": 5,
   "id": "d56f270f",
   "metadata": {},
   "outputs": [
    {
     "name": "stdout",
     "output_type": "stream",
     "text": [
      "You are provided with a list of links found on a webpage. You are able to find the link that is most likely to be a Careers page.You should respond a single link in the following format:     https://another.full.url/careers\n"
     ]
    }
   ],
   "source": [
    "print(find_careers_system_prompt)"
   ]
  },
  {
   "cell_type": "code",
   "execution_count": 6,
   "id": "30cbc0b9",
   "metadata": {},
   "outputs": [
    {
     "name": "stdout",
     "output_type": "stream",
     "text": [
      "You are provided with a list of links found on a webpage. You are able to decide which of the links would be most relevant to a keyword that was provided, \n",
      "You should respond in JSON as in this example:\n",
      "{\n",
      "    \"links\": [\n",
      "        {\"job title\": \"Software Engineer\", \"url\": \"https://full.url/goes/here/software-engineer\"},\n",
      "        {\"job title\": \"Data Scientist\", \"url\": \"https://full.url/goes/here/data-scientist\"},\n",
      "        {\"job title\": \"Product Manager\", \"url\": \"https://full.url/goes/here/product-manager\"},\n",
      "        {\"job title\": \"Data Analyst\", \"url\": \"https://full.url/goes/here/data-analyst\"},\n",
      "        {\"job title\": \"Web Developer\", \"url\": \"https://full.url/goes/here/web-developer\"}\n",
      "    ]\n",
      "}\n",
      "\n",
      "In the case that there are no relevant links, respond with an empty JSON object: {}\n"
     ]
    }
   ],
   "source": [
    "print(job_link_system_prompt)"
   ]
  },
  {
   "cell_type": "code",
   "execution_count": 9,
   "id": "c5434a0f",
   "metadata": {},
   "outputs": [
    {
     "name": "stdout",
     "output_type": "stream",
     "text": [
      "You are an assistant specialized in summarizing job postings.\n",
      "Your task is to extract and clearly summarize three things from the input job description:\n",
      "1. How the company describes itself.\n",
      "2. What the day-to-day responsibilities of the role are.\n",
      "3. What the qualifications or requirements are to apply.\n",
      "\n",
      "Write the summary in plain, professional English. Keep each section concise (1–2 sentences).\n",
      "Do not copy text verbatim unless necessary. Structure your response under the following headers:\n",
      "- About the Company\n",
      "- Role Responsibilities\n",
      "- Qualifications and Requirements\n",
      "in addition to the following fields:\n",
      "- Company Name\n",
      "- Company URL\n",
      "- Company Location\n",
      "- Company Size\n",
      "- Company Website\n",
      "- Company Founded\n",
      "- Company Mission\n",
      "- Company Values\n",
      "\n",
      "You should respond in JSON as in this example:\n",
      "{\n",
      "    \"company_name\": \"Tech Innovations Inc.\",\n",
      "    \"job_url\": \"https://full.url/goes/here/software-engineer\",\n",
      "    \"company_location\": \"San Francisco, CA\",\n",
      "    \"company_size\": \"500+ employees\",\n",
      "    \"company_website\": \"https://www.techinnovations.com\",\n",
      "    \"company_founded\": \"2010\",\n",
      "    \"company_mission\": \"To innovate and simplify technology for everyone.\",\n",
      "    \"company_values\": \"Innovation, Integrity, Customer Focus\",\n",
      "    \"company_description\": \"The company is a leading provider of innovative technology solutions.\",\n",
      "    \"role_responsibilities\": \"The role involves developing software applications and collaborating with cross-functional teams.\",\n",
      "    \"qualifications_requirements\": \"Candidates should have a degree in Computer Science and experience with Python.\"\n",
      "}\n",
      "\n",
      "In the case that there are no relevant links, respond with an empty JSON object: {}\n"
     ]
    }
   ],
   "source": [
    "print(job_posting_system_prompt)"
   ]
  },
  {
   "cell_type": "code",
   "execution_count": null,
   "id": "d971d33a",
   "metadata": {},
   "outputs": [],
   "source": [
    "# Function\n",
    "\n",
    "# This function find the career page link of a company \n",
    "# based on url\n",
    "def find_career_page(company_url):\n",
    "    pass\n",
    "\n",
    "# This function find all relevant job postings links \n",
    "# on the career page and return the relevant \n",
    "# job postings links by a keyword\n",
    "def find_job_postings(career_page_url, keyword):\n",
    "    pass\n",
    "\n",
    "# This function scraping each job posting from the list and return a summary of each job and save it to a file\n",
    "def scrape_job_postings(job_postings):\n",
    "    pass\n",
    "\n",
    "# This function wraps the three functions above by taking a company url and a keyword and return a summary of each job posting\n",
    "def find_job_postings_by_keyword(company_url, keyword):\n",
    "    career_page_url = find_career_page(company_url)\n",
    "    job_postings = find_job_postings(career_page_url, keyword)\n",
    "    scrape_job_postings(job_postings)"
   ]
  },
  {
   "cell_type": "code",
   "execution_count": null,
   "id": "73dcd73a",
   "metadata": {},
   "outputs": [],
   "source": [
    "ollama_via_openai = OpenAI(base_url='http://localhost:11434/v1', api_key='ollama')\n",
    "\n",
    "response = ollama_via_openai.chat.completions.create(\n",
    "    model=MODEL,\n",
    "    messages=messages\n",
    ")\n",
    "\n",
    "print(response.choices[0].message.content)"
   ]
  }
 ],
 "metadata": {
  "kernelspec": {
   "display_name": "llms",
   "language": "python",
   "name": "python3"
  },
  "language_info": {
   "codemirror_mode": {
    "name": "ipython",
    "version": 3
   },
   "file_extension": ".py",
   "mimetype": "text/x-python",
   "name": "python",
   "nbconvert_exporter": "python",
   "pygments_lexer": "ipython3",
   "version": "3.11.9"
  }
 },
 "nbformat": 4,
 "nbformat_minor": 5
}
