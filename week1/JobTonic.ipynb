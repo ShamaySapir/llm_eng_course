{
 "cells": [
  {
   "cell_type": "code",
   "execution_count": null,
   "id": "b9f46285",
   "metadata": {},
   "outputs": [],
   "source": [
    "from openai import OpenAI\n"
   ]
  },
  {
   "cell_type": "code",
   "execution_count": null,
   "id": "b5a12260",
   "metadata": {},
   "outputs": [],
   "source": [
    "# Constants\n",
    "\n",
    "OLLAMA_API = \"http://localhost:11434/api/chat\"\n",
    "HEADERS = {\"Content-Type\": \"application/json\"}\n",
    "MODEL = \"llama3.2\""
   ]
  },
  {
   "cell_type": "code",
   "execution_count": null,
   "id": "d971d33a",
   "metadata": {},
   "outputs": [],
   "source": [
    "# Function\n",
    "\n",
    "# This function find the career page link of a company \n",
    "# based on url\n",
    "def find_career_page(company_url):\n",
    "    pass\n",
    "\n",
    "# This function find all relevant job postings links \n",
    "# on the career page and return the relevant \n",
    "# job postings links by a keyword\n",
    "def find_job_postings(career_page_url, keyword):\n",
    "    pass\n",
    "\n",
    "# This function scraping each job posting from the list and return a summary of each job and save it to a file\n",
    "def scrape_job_postings(job_postings):\n",
    "    pass\n",
    "\n",
    "# This function wraps the three functions above by taking a company url and a keyword and return a summary of each job posting\n",
    "def find_job_postings_by_keyword(company_url, keyword):\n",
    "    career_page_url = find_career_page(company_url)\n",
    "    job_postings = find_job_postings(career_page_url, keyword)\n",
    "    scrape_job_postings(job_postings)"
   ]
  },
  {
   "cell_type": "code",
   "execution_count": null,
   "id": "73dcd73a",
   "metadata": {},
   "outputs": [],
   "source": [
    "ollama_via_openai = OpenAI(base_url='http://localhost:11434/v1', api_key='ollama')\n",
    "\n",
    "response = ollama_via_openai.chat.completions.create(\n",
    "    model=MODEL,\n",
    "    messages=messages\n",
    ")\n",
    "\n",
    "print(response.choices[0].message.content)"
   ]
  }
 ],
 "metadata": {
  "language_info": {
   "name": "python"
  }
 },
 "nbformat": 4,
 "nbformat_minor": 5
}
