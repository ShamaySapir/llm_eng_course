{
 "cells": [
  {
   "cell_type": "markdown",
   "id": "d15d8294-3328-4e07-ad16-8a03e9bbfdb9",
   "metadata": {},
   "source": [
    "# YOUR FIRST LAB\n",
    "### Please read this section. This is valuable to get you prepared, even if it's a long read -- it's important stuff.\n",
    "\n",
    "## Your first Frontier LLM Project\n",
    "\n",
    "Let's build a useful LLM solution - in a matter of minutes.\n",
    "\n",
    "By the end of this course, you will have built an autonomous Agentic AI solution with 7 agents that collaborate to solve a business problem. All in good time! We will start with something smaller...\n",
    "\n",
    "Our goal is to code a new kind of Web Browser. Give it a URL, and it will respond with a summary. The Reader's Digest of the internet!!\n",
    "\n",
    "Before starting, you should have completed the setup for [PC](../SETUP-PC.md) or [Mac](../SETUP-mac.md) and you hopefully launched this jupyter lab from within the project root directory, with your environment activated.\n",
    "\n",
    "## If you're new to Jupyter Lab\n",
    "\n",
    "Welcome to the wonderful world of Data Science experimentation! Once you've used Jupyter Lab, you'll wonder how you ever lived without it. Simply click in each \"cell\" with code in it, such as the cell immediately below this text, and hit Shift+Return to execute that cell. As you wish, you can add a cell with the + button in the toolbar, and print values of variables, or try out variations.  \n",
    "\n",
    "I've written a notebook called [Guide to Jupyter](Guide%20to%20Jupyter.ipynb) to help you get more familiar with Jupyter Labs, including adding Markdown comments, using `!` to run shell commands, and `tqdm` to show progress.\n",
    "\n",
    "## If you're new to the Command Line\n",
    "\n",
    "Please see these excellent guides: [Command line on PC](https://chatgpt.com/share/67b0acea-ba38-8012-9c34-7a2541052665) and [Command line on Mac](https://chatgpt.com/canvas/shared/67b0b10c93a081918210723867525d2b).  \n",
    "\n",
    "## If you'd prefer to work in IDEs\n",
    "\n",
    "If you're more comfortable in IDEs like VSCode or Pycharm, they both work great with these lab notebooks too.  \n",
    "If you'd prefer to work in VSCode, [here](https://chatgpt.com/share/676f2e19-c228-8012-9911-6ca42f8ed766) are instructions from an AI friend on how to configure it for the course.\n",
    "\n",
    "## If you'd like to brush up your Python\n",
    "\n",
    "I've added a notebook called [Intermediate Python](Intermediate%20Python.ipynb) to get you up to speed. But you should give it a miss if you already have a good idea what this code does:    \n",
    "`yield from {book.get(\"author\") for book in books if book.get(\"author\")}`\n",
    "\n",
    "## I am here to help\n",
    "\n",
    "If you have any problems at all, please do reach out.  \n",
    "I'm available through the platform, or at ed@edwarddonner.com, or at https://www.linkedin.com/in/eddonner/ if you'd like to connect (and I love connecting!)  \n",
    "And this is new to me, but I'm also trying out X/Twitter at [@edwarddonner](https://x.com/edwarddonner) - if you're on X, please show me how it's done 😂  \n",
    "\n",
    "## More troubleshooting\n",
    "\n",
    "Please see the [troubleshooting](troubleshooting.ipynb) notebook in this folder to diagnose and fix common problems. At the very end of it is a diagnostics script with some useful debug info.\n",
    "\n",
    "## If this is old hat!\n",
    "\n",
    "If you're already comfortable with today's material, please hang in there; you can move swiftly through the first few labs - we will get much more in depth as the weeks progress.\n",
    "\n",
    "<table style=\"margin: 0; text-align: left;\">\n",
    "    <tr>\n",
    "        <td style=\"width: 150px; height: 150px; vertical-align: middle;\">\n",
    "            <img src=\"../important.jpg\" width=\"150\" height=\"150\" style=\"display: block;\" />\n",
    "        </td>\n",
    "        <td>\n",
    "            <h2 style=\"color:#900;\">Please read - important note</h2>\n",
    "            <span style=\"color:#900;\">The way I collaborate with you may be different to other courses you've taken. I prefer not to type code while you watch. Rather, I execute Jupyter Labs, like this, and give you an intuition for what's going on. My suggestion is that you carefully execute this yourself, <b>after</b> watching the lecture. Add print statements to understand what's going on, and then come up with your own variations. If you have a Github account, use this to showcase your variations. Not only is this essential practice, but it demonstrates your skills to others, including perhaps future clients or employers...</span>\n",
    "        </td>\n",
    "    </tr>\n",
    "</table>\n",
    "<table style=\"margin: 0; text-align: left;\">\n",
    "    <tr>\n",
    "        <td style=\"width: 150px; height: 150px; vertical-align: middle;\">\n",
    "            <img src=\"../resources.jpg\" width=\"150\" height=\"150\" style=\"display: block;\" />\n",
    "        </td>\n",
    "        <td>\n",
    "            <h2 style=\"color:#f71;\">Treat these labs as a resource</h2>\n",
    "            <span style=\"color:#f71;\">I push updates to the code regularly. When people ask questions or have problems, I incorporate it in the code, adding more examples or improved commentary. As a result, you'll notice that the code below isn't identical to the videos. Everything from the videos is here; but in addition, I've added more steps and better explanations, and occasionally added new models like DeepSeek. Consider this like an interactive book that accompanies the lectures.\n",
    "            </span>\n",
    "        </td>\n",
    "    </tr>\n",
    "</table>\n",
    "<table style=\"margin: 0; text-align: left;\">\n",
    "    <tr>\n",
    "        <td style=\"width: 150px; height: 150px; vertical-align: middle;\">\n",
    "            <img src=\"../business.jpg\" width=\"150\" height=\"150\" style=\"display: block;\" />\n",
    "        </td>\n",
    "        <td>\n",
    "            <h2 style=\"color:#181;\">Business value of these exercises</h2>\n",
    "            <span style=\"color:#181;\">A final thought. While I've designed these notebooks to be educational, I've also tried to make them enjoyable. We'll do fun things like have LLMs tell jokes and argue with each other. But fundamentally, my goal is to teach skills you can apply in business. I'll explain business implications as we go, and it's worth keeping this in mind: as you build experience with models and techniques, think of ways you could put this into action at work today. Please do contact me if you'd like to discuss more or if you have ideas to bounce off me.</span>\n",
    "        </td>\n",
    "    </tr>\n",
    "</table>"
   ]
  },
  {
   "cell_type": "code",
   "execution_count": 1,
   "id": "4e2a9393-7767-488e-a8bf-27c12dca35bd",
   "metadata": {},
   "outputs": [],
   "source": [
    "# imports\n",
    "\n",
    "import os\n",
    "import requests\n",
    "from dotenv import load_dotenv\n",
    "from bs4 import BeautifulSoup\n",
    "from IPython.display import Markdown, display\n",
    "from openai import OpenAI\n",
    "from openai import AzureOpenAI\n",
    "\n",
    "# If you get an error running this cell, then please head over to the troubleshooting notebook!"
   ]
  },
  {
   "cell_type": "markdown",
   "id": "6900b2a8-6384-4316-8aaa-5e519fca4254",
   "metadata": {},
   "source": [
    "# Connecting to OpenAI (or Ollama)\n",
    "\n",
    "The next cell is where we load in the environment variables in your `.env` file and connect to OpenAI.  \n",
    "\n",
    "If you'd like to use free Ollama instead, please see the README section \"Free Alternative to Paid APIs\", and if you're not sure how to do this, there's a full solution in the solutions folder (day1_with_ollama.ipynb).\n",
    "\n",
    "## Troubleshooting if you have problems:\n",
    "\n",
    "Head over to the [troubleshooting](troubleshooting.ipynb) notebook in this folder for step by step code to identify the root cause and fix it!\n",
    "\n",
    "If you make a change, try restarting the \"Kernel\" (the python process sitting behind this notebook) by Kernel menu >> Restart Kernel and Clear Outputs of All Cells. Then try this notebook again, starting at the top.\n",
    "\n",
    "Or, contact me! Message me or email ed@edwarddonner.com and we will get this to work.\n",
    "\n",
    "Any concerns about API costs? See my notes in the README - costs should be minimal, and you can control it at every point. You can also use Ollama as a free alternative, which we discuss during Day 2."
   ]
  },
  {
   "cell_type": "code",
   "execution_count": 2,
   "id": "7b87cadb-d513-4303-baee-a37b6f938e4d",
   "metadata": {},
   "outputs": [
    {
     "name": "stdout",
     "output_type": "stream",
     "text": [
      "API key found and looks good so far!\n",
      "endpoint found and looks good so far!\n"
     ]
    }
   ],
   "source": [
    "# Load environment variables in a file called .env\n",
    "\n",
    "load_dotenv(override=True)\n",
    "api_key = os.getenv('AZURE_OPENAI_API_KEY')\n",
    "endpoint = os.getenv('ENDPOINT')\n",
    "version = os.getenv('VERSION')\n",
    "deployment = os.getenv('DEPLOYMENT')\n",
    "\n",
    "# Check the key\n",
    "\n",
    "if not api_key:\n",
    "    print(\"No API key was found - please head over to the troubleshooting notebook in this folder to identify & fix!\")\n",
    "# elif not api_key.startswith(\"sk-proj-\"):\n",
    "#     print(\"An API key was found, but it doesn't start sk-proj-; please check you're using the right key - see troubleshooting notebook\")\n",
    "elif api_key.strip() != api_key:\n",
    "    print(\"An API key was found, but it looks like it might have space or tab characters at the start or end - please remove them - see troubleshooting notebook\")\n",
    "else:\n",
    "    print(\"API key found and looks good so far!\")\n",
    "\n",
    "# Check the endpoint\n",
    "\n",
    "if  not endpoint:\n",
    "    print(\"No endpoint  was found\")\n",
    "else:\n",
    "    print(\"endpoint found and looks good so far!\")\n"
   ]
  },
  {
   "cell_type": "code",
   "execution_count": 3,
   "id": "019974d9-f3ad-4a8a-b5f9-0a3719aea2d3",
   "metadata": {},
   "outputs": [],
   "source": [
    "# openai = OpenAI()\n",
    "\n",
    "client = AzureOpenAI(\n",
    "    azure_endpoint=endpoint, \n",
    "    api_key=api_key,\n",
    "    api_version=version\n",
    ")\n",
    "\n",
    "# If this doesn't work, try Kernel menu >> Restart Kernel and Clear Outputs Of All Cells, then run the cells from the top of this notebook down.\n",
    "# If it STILL doesn't work (horrors!) then please see the Troubleshooting notebook in this folder for full instructions"
   ]
  },
  {
   "cell_type": "markdown",
   "id": "442fc84b-0815-4f40-99ab-d9a5da6bda91",
   "metadata": {},
   "source": [
    "# Let's make a quick call to a Frontier model to get started, as a preview!"
   ]
  },
  {
   "cell_type": "code",
   "execution_count": 23,
   "id": "a58394bf-1e45-46af-9bfd-01e24da6f49a",
   "metadata": {},
   "outputs": [
    {
     "name": "stdout",
     "output_type": "stream",
     "text": [
      "Hello! It’s great to hear from you. Welcome! How can I assist you today?\n"
     ]
    }
   ],
   "source": [
    "# To give you a preview -- calling OpenAI with these messages is this easy. Any problems, head over to the Troubleshooting notebook.\n",
    "\n",
    "message = \"Hello, GPT! This is my first ever message to you! Hi!\"\n",
    "# response = openai.chat.completions.create(model=\"gpt-4o-mini\", messages=[{\"role\":\"user\", \"content\":message}])\n",
    "response = client.chat.completions.create(\n",
    "    model=deployment,\n",
    "    messages=[{\"role\": \"user\", \"content\": message}]\n",
    ")\n",
    "print(response.choices[0].message.content)"
   ]
  },
  {
   "cell_type": "code",
   "execution_count": 25,
   "id": "aa05785d",
   "metadata": {},
   "outputs": [
    {
     "name": "stdout",
     "output_type": "stream",
     "text": [
      "Koh Phangan is a beautiful destination, and there are several family-friendly hotels that could meet your needs perfectly. Here are some top recommendations that offer a great blend of amenities, services, and a relaxing atmosphere for families with young children:\n",
      "\n",
      "### 1. **Santhiya Koh Phangan Resort & Spa**\n",
      "- **Kid-Friendly Amenities:** Offers a children's pool and an on-site playground.\n",
      "- **Family-Oriented Services:** The resort provides cribs upon request and has family-sized rooms and villas. \n",
      "- **Location:** Situated in a quieter area by the beach, ensuring a peaceful environment.\n",
      "- **Luxury Feel:** Known for its luxury accommodations and beautiful surroundings.\n",
      "- **Budget Consideration:** Offers various room types, allowing for flexibility in pricing.\n",
      "\n",
      "### 2. **Anantara Rasananda Koh Phangan Villas**\n",
      "- **Kid-Friendly Amenities:** Features a children’s pool, and the beach is directly accessible for family activities.\n",
      "- **Family-Oriented Services:** Services like babysitting can be arranged, and they provide kitchen facilities for preparing meals for kids.\n",
      "- **Location:** Located in a tranquil area away from the crowds.\n",
      "- **Luxury Feel:** Anantara properties are known for their high service standards and luxury atmosphere.\n",
      "- **Budget Consideration:** This resort may be on the higher end, but often has sales and promotions.\n",
      "\n",
      "### 3. **Baan Haad Yao Resort**\n",
      "- **Kid-Friendly Amenities:** Includes a kids' pool and beach access that is great for families.\n",
      "- **Family-Oriented Services:** They offer family bungalows with kitchen amenities; cribs can be provided upon request.\n",
      "- **Location:** This resort is in a quieter part of the island, making it suitable for families looking to relax.\n",
      "- **Luxury Feel:** Offers a cozy yet upscale feel without being too expensive.\n",
      "- **Budget Consideration:** Generally more affordable than high-end resorts, making it ideal for family budgeting.\n",
      "\n",
      "### 4. **Koh Phangan Dreamland Resort**\n",
      "- **Kid-Friendly Amenities:** Features a children's play area and separate children's swimming pool.\n",
      "- **Family-Oriented Services:** Offers family rooms and can arrange beach toys for children's fun.\n",
      "- **Location:** Located on a quieter section of the beach, providing a peaceful setting.\n",
      "- **Luxury Feel:** While it’s a mid-range property, it offers a great balance of comfort and amenities.\n",
      "- **Budget Consideration:** Affordable accommodation options.\n",
      "\n",
      "### 5. **Panviman Koh Phangan Spa Resort**\n",
      "- **Kid-Friendly Amenities:** Offers a children’s pool and activities that can engage families.\n",
      "- **Family-Oriented Services:** Cribs are available, and the staff is generally helpful with families.\n",
      "- **Location:** Situated in a less crowded part of the island, it offers serene views and accessibility to the beach.\n",
      "- **Luxury Feel:** Beautifully designed resort with spa facilities and stunning views.\n",
      "- **Budget Consideration:** Although it leans towards luxury, they provide competitive rates for families.\n",
      "\n",
      "### Tips for Booking:\n",
      "1. **Book Early:** Since you're planning for a few years out, book early to secure the best rates and room selections.\n",
      "2. **Check Reviews:** Look for recent reviews specifically mentioning family experiences and children’s facilities.\n",
      "3. **Contact the Hotel Directly:** Sometimes, hotels offer family packages or additional amenities that may not be advertised online.\n",
      "\n",
      "Make sure to double-check each hotel's current offerings closer to your travel dates, as amenities and services can change. Enjoy your family vacation in Koh Phangan!\n"
     ]
    }
   ],
   "source": [
    "message = \"Hi! We are looking for a great family-friendly hotel in Koh Phangan for our next stay — from August 18th to 24th, 2025. We’re a couple with two young kids (ages 3 and 1), so we’re hoping to find a hotel that: Has kid-friendly amenities and attractions on-site (like a kids’ pool, play area, kids’ club, etc.) Offers family-oriented services (such as cribs, babysitting, or flexible meal options) Is located in a quiet, comfortable area — not too noisy or crowded Feels luxurious or pampering, but still within a reasonable budget We’d love your suggestions for the best options available!\"\n",
    "response = client.chat.completions.create(\n",
    "    model=deployment,\n",
    "    messages=[{\"role\": \"user\", \"content\": message}]\n",
    ")\n",
    "print(response.choices[0].message.content)"
   ]
  },
  {
   "cell_type": "markdown",
   "id": "2aa190e5-cb31-456a-96cc-db109919cd78",
   "metadata": {},
   "source": [
    "## OK onwards with our first project"
   ]
  },
  {
   "cell_type": "code",
   "execution_count": 4,
   "id": "c5e793b2-6775-426a-a139-4848291d0463",
   "metadata": {},
   "outputs": [],
   "source": [
    "# A class to represent a Webpage\n",
    "# If you're not familiar with Classes, check out the \"Intermediate Python\" notebook\n",
    "\n",
    "# Some websites need you to use proper headers when fetching them:\n",
    "headers = {\n",
    " \"User-Agent\": \"Mozilla/5.0 (Windows NT 10.0; Win64; x64) AppleWebKit/537.36 (KHTML, like Gecko) Chrome/117.0.0.0 Safari/537.36\"\n",
    "}\n",
    "\n",
    "class Website:\n",
    "\n",
    "    def __init__(self, url):\n",
    "        \"\"\"\n",
    "        Create this Website object from the given url using the BeautifulSoup library\n",
    "        \"\"\"\n",
    "        self.url = url\n",
    "        response = requests.get(url, headers=headers)\n",
    "        soup = BeautifulSoup(response.content, 'html.parser')\n",
    "        self.title = soup.title.string if soup.title else \"No title found\"\n",
    "        for irrelevant in soup.body([\"script\", \"style\", \"img\", \"input\"]):\n",
    "            irrelevant.decompose()\n",
    "        self.text = soup.body.get_text(separator=\"\\n\", strip=True)"
   ]
  },
  {
   "cell_type": "code",
   "execution_count": 5,
   "id": "2ef960cf-6dc2-4cda-afb3-b38be12f4c97",
   "metadata": {},
   "outputs": [
    {
     "name": "stdout",
     "output_type": "stream",
     "text": [
      "Home - Edward Donner\n",
      "Home\n",
      "Connect Four\n",
      "Outsmart\n",
      "An arena that pits LLMs against each other in a battle of diplomacy and deviousness\n",
      "About\n",
      "Posts\n",
      "Well, hi there.\n",
      "I’m Ed. I like writing code and experimenting with LLMs, and hopefully you’re here because you do too. I also enjoy DJing (but I’m badly out of practice), amateur electronic music production (\n",
      "very\n",
      "amateur) and losing myself in\n",
      "Hacker News\n",
      ", nodding my head sagely to things I only half understand.\n",
      "I’m the co-founder and CTO of\n",
      "Nebula.io\n",
      ". We’re applying AI to a field where it can make a massive, positive impact: helping people discover their potential and pursue their reason for being. Recruiters use our product today to source, understand, engage and manage talent. I’m previously the founder and CEO of AI startup untapt,\n",
      "acquired in 2021\n",
      ".\n",
      "We work with groundbreaking, proprietary LLMs verticalized for talent, we’ve\n",
      "patented\n",
      "our matching model, and our award-winning platform has happy customers and tons of press coverage.\n",
      "Connect\n",
      "with me for more!\n",
      "April 21, 2025\n",
      "The Complete Agentic AI Engineering Course\n",
      "January 23, 2025\n",
      "LLM Workshop – Hands-on with Agents – resources\n",
      "December 21, 2024\n",
      "Welcome, SuperDataScientists!\n",
      "November 13, 2024\n",
      "Mastering AI and LLM Engineering – Resources\n",
      "Navigation\n",
      "Home\n",
      "Connect Four\n",
      "Outsmart\n",
      "An arena that pits LLMs against each other in a battle of diplomacy and deviousness\n",
      "About\n",
      "Posts\n",
      "Get in touch\n",
      "ed [at] edwarddonner [dot] com\n",
      "www.edwarddonner.com\n",
      "Follow me\n",
      "LinkedIn\n",
      "Twitter\n",
      "Facebook\n",
      "Subscribe to newsletter\n",
      "Type your email…\n",
      "Subscribe\n"
     ]
    }
   ],
   "source": [
    "# Let's try one out. Change the website and add print statements to follow along.\n",
    "\n",
    "ed = Website(\"https://edwarddonner.com\")\n",
    "print(ed.title)\n",
    "print(ed.text)"
   ]
  },
  {
   "cell_type": "markdown",
   "id": "6a478a0c-2c53-48ff-869c-4d08199931e1",
   "metadata": {},
   "source": [
    "## Types of prompts\n",
    "\n",
    "You may know this already - but if not, you will get very familiar with it!\n",
    "\n",
    "Models like GPT4o have been trained to receive instructions in a particular way.\n",
    "\n",
    "They expect to receive:\n",
    "\n",
    "**A system prompt** that tells them what task they are performing and what tone they should use\n",
    "\n",
    "**A user prompt** -- the conversation starter that they should reply to"
   ]
  },
  {
   "cell_type": "code",
   "execution_count": 6,
   "id": "abdb8417-c5dc-44bc-9bee-2e059d162699",
   "metadata": {},
   "outputs": [],
   "source": [
    "# Define our system prompt - you can experiment with this later, changing the last sentence to 'Respond in markdown in Spanish.\"\n",
    "\n",
    "system_prompt = \"You are an assistant that analyzes the contents of a website \\\n",
    "and provides a short summary, ignoring text that might be navigation related. \\\n",
    "Respond in markdown.\""
   ]
  },
  {
   "cell_type": "code",
   "execution_count": 7,
   "id": "f0275b1b-7cfe-4f9d-abfa-7650d378da0c",
   "metadata": {},
   "outputs": [],
   "source": [
    "# A function that writes a User Prompt that asks for summaries of websites:\n",
    "\n",
    "def user_prompt_for(website):\n",
    "    user_prompt = f\"You are looking at a website titled {website.title}\"\n",
    "    user_prompt += \"\\nThe contents of this website is as follows; \\\n",
    "please provide a short summary of this website in markdown. \\\n",
    "If it includes news or announcements, then summarize these too.\\n\\n\"\n",
    "    user_prompt += website.text\n",
    "    return user_prompt"
   ]
  },
  {
   "cell_type": "code",
   "execution_count": 9,
   "id": "8df6f0e1",
   "metadata": {},
   "outputs": [
    {
     "name": "stdout",
     "output_type": "stream",
     "text": [
      "You are looking at a website titled Home - Edward Donner\n",
      "The contents of this website is as follows; please provide a short summary of this website in markdown. If it includes news or announcements, then summarize these too.\n",
      "\n",
      "Home\n",
      "Connect Four\n",
      "Outsmart\n",
      "An arena that pits LLMs against each other in a battle of diplomacy and deviousness\n",
      "About\n",
      "Posts\n",
      "Well, hi there.\n",
      "I’m Ed. I like writing code and experimenting with LLMs, and hopefully you’re here because you do too. I also enjoy DJing (but I’m badly out of practice), amateur electronic music production (\n",
      "very\n",
      "amateur) and losing myself in\n",
      "Hacker News\n",
      ", nodding my head sagely to things I only half understand.\n",
      "I’m the co-founder and CTO of\n",
      "Nebula.io\n",
      ". We’re applying AI to a field where it can make a massive, positive impact: helping people discover their potential and pursue their reason for being. Recruiters use our product today to source, understand, engage and manage talent. I’m previously the founder and CEO of AI startup untapt,\n",
      "acquired in 2021\n",
      ".\n",
      "We work with groundbreaking, proprietary LLMs verticalized for talent, we’ve\n",
      "patented\n",
      "our matching model, and our award-winning platform has happy customers and tons of press coverage.\n",
      "Connect\n",
      "with me for more!\n",
      "April 21, 2025\n",
      "The Complete Agentic AI Engineering Course\n",
      "January 23, 2025\n",
      "LLM Workshop – Hands-on with Agents – resources\n",
      "December 21, 2024\n",
      "Welcome, SuperDataScientists!\n",
      "November 13, 2024\n",
      "Mastering AI and LLM Engineering – Resources\n",
      "Navigation\n",
      "Home\n",
      "Connect Four\n",
      "Outsmart\n",
      "An arena that pits LLMs against each other in a battle of diplomacy and deviousness\n",
      "About\n",
      "Posts\n",
      "Get in touch\n",
      "ed [at] edwarddonner [dot] com\n",
      "www.edwarddonner.com\n",
      "Follow me\n",
      "LinkedIn\n",
      "Twitter\n",
      "Facebook\n",
      "Subscribe to newsletter\n",
      "Type your email…\n",
      "Subscribe\n"
     ]
    }
   ],
   "source": [
    "print(user_prompt_for(ed))"
   ]
  },
  {
   "cell_type": "markdown",
   "id": "ea211b5f-28e1-4a86-8e52-c0b7677cadcc",
   "metadata": {},
   "source": [
    "## Messages\n",
    "\n",
    "The API from OpenAI expects to receive messages in a particular structure.\n",
    "Many of the other APIs share this structure:\n",
    "\n",
    "```\n",
    "[\n",
    "    {\"role\": \"system\", \"content\": \"system message goes here\"},\n",
    "    {\"role\": \"user\", \"content\": \"user message goes here\"}\n",
    "]\n",
    "\n",
    "To give you a preview, the next 2 cells make a rather simple call - we won't stretch the mighty GPT (yet!)"
   ]
  },
  {
   "cell_type": "code",
   "execution_count": 10,
   "id": "f25dcd35-0cd0-4235-9f64-ac37ed9eaaa5",
   "metadata": {},
   "outputs": [],
   "source": [
    "messages = [\n",
    "    {\"role\": \"system\", \"content\": \"You are a snarky assistant\"},\n",
    "    {\"role\": \"user\", \"content\": \"What is 2 + 2?\"}\n",
    "]"
   ]
  },
  {
   "cell_type": "code",
   "execution_count": null,
   "id": "21ed95c5-7001-47de-a36d-1d6673b403ce",
   "metadata": {},
   "outputs": [],
   "source": [
    "# To give you a preview -- calling OpenAI with system and user messages:\n",
    "\n",
    "#response = openai.chat.completions.create(model=\"gpt-4o-mini\", messages=messages)\n",
    "#print(response.choices[0].message.content)"
   ]
  },
  {
   "cell_type": "code",
   "execution_count": 11,
   "id": "240ed23d",
   "metadata": {},
   "outputs": [
    {
     "name": "stdout",
     "output_type": "stream",
     "text": [
      "Oh, a real brain teasers here! It's 4. But if you're looking for a more exciting answer, I could say it's the start of a great math drama!\n"
     ]
    }
   ],
   "source": [
    "response = client.chat.completions.create(\n",
    "    model=deployment,\n",
    "    messages=messages\n",
    ")\n",
    "print(response.choices[0].message.content)"
   ]
  },
  {
   "cell_type": "markdown",
   "id": "d06e8d78-ce4c-4b05-aa8e-17050c82bb47",
   "metadata": {},
   "source": [
    "## And now let's build useful messages for GPT-4o-mini, using a function"
   ]
  },
  {
   "cell_type": "code",
   "execution_count": 12,
   "id": "0134dfa4-8299-48b5-b444-f2a8c3403c88",
   "metadata": {},
   "outputs": [],
   "source": [
    "# See how this function creates exactly the format above\n",
    "\n",
    "def messages_for(website):\n",
    "    return [\n",
    "        {\"role\": \"system\", \"content\": system_prompt},\n",
    "        {\"role\": \"user\", \"content\": user_prompt_for(website)}\n",
    "    ]"
   ]
  },
  {
   "cell_type": "code",
   "execution_count": 13,
   "id": "36478464-39ee-485c-9f3f-6a4e458dbc9c",
   "metadata": {},
   "outputs": [
    {
     "data": {
      "text/plain": [
       "[{'role': 'system',\n",
       "  'content': 'You are an assistant that analyzes the contents of a website and provides a short summary, ignoring text that might be navigation related. Respond in markdown.'},\n",
       " {'role': 'user',\n",
       "  'content': 'You are looking at a website titled Home - Edward Donner\\nThe contents of this website is as follows; please provide a short summary of this website in markdown. If it includes news or announcements, then summarize these too.\\n\\nHome\\nConnect Four\\nOutsmart\\nAn arena that pits LLMs against each other in a battle of diplomacy and deviousness\\nAbout\\nPosts\\nWell, hi there.\\nI’m Ed. I like writing code and experimenting with LLMs, and hopefully you’re here because you do too. I also enjoy DJing (but I’m badly out of practice), amateur electronic music production (\\nvery\\namateur) and losing myself in\\nHacker News\\n, nodding my head sagely to things I only half understand.\\nI’m the co-founder and CTO of\\nNebula.io\\n. We’re applying AI to a field where it can make a massive, positive impact: helping people discover their potential and pursue their reason for being. Recruiters use our product today to source, understand, engage and manage talent. I’m previously the founder and CEO of AI startup untapt,\\nacquired in 2021\\n.\\nWe work with groundbreaking, proprietary LLMs verticalized for talent, we’ve\\npatented\\nour matching model, and our award-winning platform has happy customers and tons of press coverage.\\nConnect\\nwith me for more!\\nApril 21, 2025\\nThe Complete Agentic AI Engineering Course\\nJanuary 23, 2025\\nLLM Workshop – Hands-on with Agents – resources\\nDecember 21, 2024\\nWelcome, SuperDataScientists!\\nNovember 13, 2024\\nMastering AI and LLM Engineering – Resources\\nNavigation\\nHome\\nConnect Four\\nOutsmart\\nAn arena that pits LLMs against each other in a battle of diplomacy and deviousness\\nAbout\\nPosts\\nGet in touch\\ned [at] edwarddonner [dot] com\\nwww.edwarddonner.com\\nFollow me\\nLinkedIn\\nTwitter\\nFacebook\\nSubscribe to newsletter\\nType your email…\\nSubscribe'}]"
      ]
     },
     "execution_count": 13,
     "metadata": {},
     "output_type": "execute_result"
    }
   ],
   "source": [
    "# Try this out, and then try for a few more websites\n",
    "\n",
    "messages_for(ed)"
   ]
  },
  {
   "cell_type": "markdown",
   "id": "16f49d46-bf55-4c3e-928f-68fc0bf715b0",
   "metadata": {},
   "source": [
    "## Time to bring it together - the API for OpenAI is very simple!"
   ]
  },
  {
   "cell_type": "code",
   "execution_count": 14,
   "id": "905b9919-aba7-45b5-ae65-81b3d1d78e34",
   "metadata": {},
   "outputs": [],
   "source": [
    "# And now: call the OpenAI API. You will get very familiar with this!\n",
    "\n",
    "def summarize(url):\n",
    "    website = Website(url)\n",
    "    # response = openai.chat.completions.create(\n",
    "    #     model = \"gpt-4o-mini\",\n",
    "    #     messages = messages_for(website)\n",
    "    # )\n",
    "    response = client.chat.completions.create(\n",
    "        model=deployment,\n",
    "        messages=messages_for(website)\n",
    "    )\n",
    "    return response.choices[0].message.content"
   ]
  },
  {
   "cell_type": "code",
   "execution_count": 15,
   "id": "05e38d41-dfa4-4b20-9c96-c46ea75d9fb5",
   "metadata": {},
   "outputs": [
    {
     "data": {
      "text/plain": [
       "'# Website Summary: Edward Donner\\n\\nThe website belongs to Edward Donner, a co-founder and CTO of Nebula.io, where he focuses on leveraging AI to help individuals discover their potential and engage with talent. Ed has a background in coding and experimenting with Large Language Models (LLMs), along with interests in DJing and electronic music production. \\n\\n## Key Features:\\n- **Connect Four**: A platform that features competitive scenarios involving LLMs.\\n- **Outsmart**: Described as an arena for LLMs engaging in diplomacy and strategy.\\n\\n## Recent Posts & Announcements:\\n- **April 21, 2025**: Announcement of \"The Complete Agentic AI Engineering Course\".\\n- **January 23, 2025**: Details for an \"LLM Workshop – Hands-on with Agents\".\\n- **December 21, 2024**: Welcome message to \"SuperDataScientists\".\\n- **November 13, 2024**: Resources for \"Mastering AI and LLM Engineering\".\\n\\nThe website showcases Ed\\'s projects and offers a platform to connect with him.'"
      ]
     },
     "execution_count": 15,
     "metadata": {},
     "output_type": "execute_result"
    }
   ],
   "source": [
    "summarize(\"https://edwarddonner.com\")"
   ]
  },
  {
   "cell_type": "code",
   "execution_count": 16,
   "id": "3d926d59-450e-4609-92ba-2d6f244f1342",
   "metadata": {},
   "outputs": [],
   "source": [
    "# A function to display this nicely in the Jupyter output, using markdown\n",
    "\n",
    "def display_summary(url):\n",
    "    summary = summarize(url)\n",
    "    display(Markdown(summary))"
   ]
  },
  {
   "cell_type": "code",
   "execution_count": 17,
   "id": "3018853a-445f-41ff-9560-d925d1774b2f",
   "metadata": {},
   "outputs": [
    {
     "data": {
      "text/markdown": [
       "# Summary of Edward Donner's Website\n",
       "\n",
       "Edward Donner's website features his interests in coding, experimenting with Large Language Models (LLMs), and amateur electronic music. He is the co-founder and CTO of Nebula.io, which helps organizations discover and manage talent using AI. Previously, he founded the AI startup untapt, which was acquired in 2021.\n",
       "\n",
       "## Recent Announcements\n",
       "- **April 21, 2025**: Launch of *The Complete Agentic AI Engineering Course*.\n",
       "- **January 23, 2025**: Announcement of an *LLM Workshop* with hands-on resources for agents.\n",
       "- **December 21, 2024**: Welcome message to *SuperDataScientists*.\n",
       "- **November 13, 2024**: Release of resources for *Mastering AI and LLM Engineering*. \n",
       "\n",
       "The website encourages connection through various social platforms and offers subscription options for updates."
      ],
      "text/plain": [
       "<IPython.core.display.Markdown object>"
      ]
     },
     "metadata": {},
     "output_type": "display_data"
    }
   ],
   "source": [
    "display_summary(\"https://edwarddonner.com\")"
   ]
  },
  {
   "cell_type": "markdown",
   "id": "b3bcf6f4-adce-45e9-97ad-d9a5d7a3a624",
   "metadata": {},
   "source": [
    "# Let's try more websites\n",
    "\n",
    "Note that this will only work on websites that can be scraped using this simplistic approach.\n",
    "\n",
    "Websites that are rendered with Javascript, like React apps, won't show up. See the community-contributions folder for a Selenium implementation that gets around this. You'll need to read up on installing Selenium (ask ChatGPT!)\n",
    "\n",
    "Also Websites protected with CloudFront (and similar) may give 403 errors - many thanks Andy J for pointing this out.\n",
    "\n",
    "But many websites will work just fine!"
   ]
  },
  {
   "cell_type": "code",
   "execution_count": 18,
   "id": "45d83403-a24c-44b5-84ac-961449b4008f",
   "metadata": {},
   "outputs": [
    {
     "data": {
      "text/markdown": [
       "# CNN Website Summary\n",
       "\n",
       "CNN is a major news platform that provides breaking news, in-depth articles, live updates, and a variety of multimedia content. The website covers a wide range of topics, including:\n",
       "\n",
       "- **US and World News**: Comprehensive coverage of significant events both in the United States and globally, such as the Ukraine-Russia War and the Israel-Hamas War.\n",
       "- **Politics**: Insightful analysis related to current political events, including details about the 2025 Elections and various US political activities.\n",
       "- **Business and Economy**: Updates on economic policies, market performance, and significant business news.\n",
       "- **Health and Science**: Articles focused on public health, scientific discoveries, and health trends.\n",
       "- **Entertainment and Sports**: Coverage of the latest in movies, television, and sports events.\n",
       "\n",
       "## Recent Headlines:\n",
       "- Coverage includes the commencement of a trial in Australia regarding a murder case labeled the \"mushroom murder.\"\n",
       "- Reports on the auto tariffs deal being reached and its implications for US-Canada relations.\n",
       "- Insights into a tragic incident where a vehicle rammed into an after-school program, resulting in several fatalities.\n",
       "\n",
       "Overall, CNN aims to deliver accurate and timely news across various sectors while maintaining an interactive platform for audience engagement."
      ],
      "text/plain": [
       "<IPython.core.display.Markdown object>"
      ]
     },
     "metadata": {},
     "output_type": "display_data"
    }
   ],
   "source": [
    "display_summary(\"https://cnn.com\")"
   ]
  },
  {
   "cell_type": "code",
   "execution_count": null,
   "id": "75e9fd40-b354-4341-991e-863ef2e59db7",
   "metadata": {},
   "outputs": [],
   "source": [
    "display_summary(\"https://anthropic.com\")"
   ]
  },
  {
   "cell_type": "code",
   "execution_count": 19,
   "id": "b7f7cbc9",
   "metadata": {},
   "outputs": [
    {
     "data": {
      "text/markdown": [
       "# קוסמוי - הבלוגים של למטייל\n",
       "\n",
       "האתר מתמקד בכתבות והמלצות למטיילים, במיוחד על היעד קו סמוי בתאילנד. התוכן כולל חוויות מפורטות על המסע של הבלוגרים גיא ושיר, בהם תיאורים של חוויות, מקומות אטרקטיביים, מסעדות, מלונות, וחיי הלילה באי.\n",
       "\n",
       "## תוכן מרכזי:\n",
       "- **מסלול טיול**: תיאור מפורט של טיול בן ארבעה ימים בקו סמוי, כולל פעילות מגוונת כמו ביקור בחופים, מסעדות, מופעים ונגינה, וסדנאות אוכל.\n",
       "- **מלונות מומלצים**: הצגת מלונות איכותיים באי, כמו Nora Buri Resort ו-Spago Italian.\n",
       "- **המלצות על פעילויות**: טיולים פרטיים, שייט, סדנאות בישול ועוד.\n",
       "\n",
       "## חדשות תיירות:\n",
       "- האתר כולל עדכונים על חדשות בתחום התיירות כמו חזרה של חברות תעופה ושינויים במחירים. \n",
       "\n",
       "סה\"כ, האתר משמש כמשאב שימושי עבור מטיילים שמחפשים מידע עדכני ורלוונטי על קו סמוי ותיירות בכלל."
      ],
      "text/plain": [
       "<IPython.core.display.Markdown object>"
      ]
     },
     "metadata": {},
     "output_type": "display_data"
    }
   ],
   "source": [
    "display_summary(\"https://www.lametayel.co.il/posts/olp8vl\")"
   ]
  },
  {
   "cell_type": "code",
   "execution_count": 21,
   "id": "aacaada9",
   "metadata": {},
   "outputs": [
    {
     "data": {
      "text/markdown": [
       "# Summary of the \"מלונות בקו סמוי\" Website\n",
       "\n",
       "The website \"מלונות בקו סמוי\" (Koh Samui Hotels) provides comprehensive information about recommended accommodations on Koh Samui, a popular tourist destination in Thailand. The content includes a variety of hotel options, from luxurious resorts to budget-friendly hotels, highlighting their amenities, locations, and unique features. \n",
       "\n",
       "### Featured Hotels Include:\n",
       "1. **Sandalwood Luxury Villas** - Known for its stunning views and luxurious villas, offering a restaurant and free Wi-Fi.\n",
       "2. **Rocky's Boutique Resort** - A romantic hotel located on the beach, featuring various activities and excellent dining options.\n",
       "3. **Samui Reef View Resort** - A budget-friendly three-star hotel with a nice atmosphere, outdoor pool, and complimentary shuttle service.\n",
       "4. **Silavadee Pool Spa Resort** - Offers private beach access with spacious rooms and a spa.\n",
       "5. **Anantara Lawana Resort & Spa** - A luxurious resort with traditional Thai decor and well-maintained gardens.\n",
       "6. **Four Seasons Resort Koh Samui** - An exclusive five-star resort with premium amenities.\n",
       "\n",
       "### General Information\n",
       "- The website emphasizes the wide range of options available for travelers looking to enjoy a luxurious or budget-friendly vacation in Koh Samui. It includes details about the beautiful views, proximity to the beaches, and various services provided by the hotels.\n",
       "\n",
       "### Travel Advice and Updates\n",
       "Recent news includes various travel updates affecting airlines and routes, such as the discontinuation of certain flights and new service introductions by airlines, particularly concerning flights to and from Israel.\n",
       "\n",
       "### Overall Purpose\n",
       "The site serves as a travel guide for potential visitors to Koh Samui, offering not only hotel recommendations but also insights and updates relevant to tourists planning their travels."
      ],
      "text/plain": [
       "<IPython.core.display.Markdown object>"
      ]
     },
     "metadata": {},
     "output_type": "display_data"
    }
   ],
   "source": [
    "display_summary(\"https://www.lametayel.co.il/articles/erypnd\")"
   ]
  },
  {
   "cell_type": "markdown",
   "id": "c951be1a-7f1b-448f-af1f-845978e47e2c",
   "metadata": {},
   "source": [
    "<table style=\"margin: 0; text-align: left;\">\n",
    "    <tr>\n",
    "        <td style=\"width: 150px; height: 150px; vertical-align: middle;\">\n",
    "            <img src=\"../business.jpg\" width=\"150\" height=\"150\" style=\"display: block;\" />\n",
    "        </td>\n",
    "        <td>\n",
    "            <h2 style=\"color:#181;\">Business applications</h2>\n",
    "            <span style=\"color:#181;\">In this exercise, you experienced calling the Cloud API of a Frontier Model (a leading model at the frontier of AI) for the first time. We will be using APIs like OpenAI at many stages in the course, in addition to building our own LLMs.\n",
    "\n",
    "More specifically, we've applied this to Summarization - a classic Gen AI use case to make a summary. This can be applied to any business vertical - summarizing the news, summarizing financial performance, summarizing a resume in a cover letter - the applications are limitless. Consider how you could apply Summarization in your business, and try prototyping a solution.</span>\n",
    "        </td>\n",
    "    </tr>\n",
    "</table>\n",
    "\n",
    "<table style=\"margin: 0; text-align: left;\">\n",
    "    <tr>\n",
    "        <td style=\"width: 150px; height: 150px; vertical-align: middle;\">\n",
    "            <img src=\"../important.jpg\" width=\"150\" height=\"150\" style=\"display: block;\" />\n",
    "        </td>\n",
    "        <td>\n",
    "            <h2 style=\"color:#900;\">Before you continue - now try yourself</h2>\n",
    "            <span style=\"color:#900;\">Use the cell below to make your own simple commercial example. Stick with the summarization use case for now. Here's an idea: write something that will take the contents of an email, and will suggest an appropriate short subject line for the email. That's the kind of feature that might be built into a commercial email tool.</span>\n",
    "        </td>\n",
    "    </tr>\n",
    "</table>"
   ]
  },
  {
   "cell_type": "code",
   "execution_count": 24,
   "id": "87700e55",
   "metadata": {},
   "outputs": [
    {
     "name": "stdout",
     "output_type": "stream",
     "text": [
      "Week 2 Day 1\n",
      "Building Your Partner’s “Love Map”\n",
      "How well do you really know her?\n",
      "\n",
      "Bro, let’s start this week with a simple but serious question: How well do \n",
      "you really know your partner?\n",
      "I’m not talking about knowing her favorite color or how she likes her \n",
      "coffee. I mean the deeper stuff.\n",
      "What goes through her mind before she falls asleep? What dreams has she \n",
      "yet to fulfill? What scares her?\n",
      "\n",
      "Relationship researcher Dr. John Gottman found that one of the biggest \n",
      "differences between couples who last and those who don’t is how well they \n",
      "know each other's inner world.\n",
      "Happy couples don’t just know what their partner did today — they know how \n",
      "they felt, what’s bothering them, and what truly matters to them in life.\n",
      "They don’t just talk about the kids or work — they dive deeper.\n",
      "\n",
      "So the real question is: How do you build that? How do you make sure you \n",
      "really know your partner even after years together?\n",
      "\n",
      "Your task for today:\n",
      "\n",
      "Today, you're going to check how well you really know her.\n",
      "\n",
      "Sit down by yourself for 5 minutes and answer the following questions — \n",
      "without checking with her, just based on what you believe:\n",
      "\n",
      "What’s been bothering her most recently?\n",
      "\n",
      "What’s her ultimate life dream?\n",
      "\n",
      "If she could change one thing about herself, what would it be?\n",
      "\n",
      "What’s been the most meaningful moment in her life so far?\n",
      "\n",
      "Who has influenced her the most?\n",
      "\n",
      "After answering, check with her:\n",
      "\n",
      "Tell her: “I did a little experiment and answered a few questions about \n",
      "you — I’m curious to see if I got them right.”\n",
      "\n",
      "Let her answer the same questions and compare them to your answers.\n",
      "\n",
      "Bonus step? Let her ask you the same questions.\n",
      "You’ll probably be surprised at what comes up — and you might also see \n",
      "where there are gaps in your “love map” of her.\n",
      "Things you assumed you knew... might not be quite right.\n",
      "Go for it. See you tomorrow.\n",
      "\n",
      "Week 2 Day 2\n",
      "How does she see the future?\n",
      "\n",
      "Bro, when was the last time you really sat down with your partner and \n",
      "talked about the future?\n",
      "Not which grocery store to go to this week, or what class the kids are \n",
      "taking — but how she envisions your life 5, 10, or 20 years from now?\n",
      "\n",
      "John Gottman’s research shows that couples who regularly talk about the \n",
      "future and develop a shared vision feel much more connected.\n",
      "It doesn’t have to be the exact same dream — each of you can want slightly \n",
      "different things — but just knowing where each of you is heading helps you \n",
      "feel like you’re moving in the same direction.\n",
      "\n",
      "But here’s the thing:\n",
      "We often assume we know how our partner sees the future, but her vision \n",
      "might have changed.\n",
      "Maybe she used to dream about one career path but now wants something \n",
      "else.\n",
      "Or maybe she’s been fantasizing about something she never mentioned \n",
      "because it didn’t seem “relevant.”\n",
      "\n",
      "Your task for today:\n",
      "\n",
      "At some point during the day, plan a quiet moment where you can ask her \n",
      "one or more of these questions:\n",
      "\n",
      "“If you could imagine our life 10 years from now, what would it look \n",
      "like?”\n",
      "\n",
      "“Is there something you’ve always wanted to do but haven’t done yet?”\n",
      "\n",
      "“What’s one change you’d love to see in our lives in the future?”\n",
      "\n",
      "Let her talk.\n",
      "\n",
      "Don’t interrupt.\n",
      "\n",
      "Don’t rush to explain how it does or doesn’t fit into your plans.\n",
      "\n",
      "Just listen.\n",
      "\n",
      "At the end of the conversation, share your vision too.\n",
      "\n",
      "Tell her how you see the future.\n",
      "\n",
      "Try to find common ground — places where your dreams align.\n",
      "\n",
      "The goal here isn’t to make a practical plan. It’s just to understand how \n",
      "she sees your life together going forward.\n",
      "You might learn things you never knew, and it might even make you reflect \n",
      "on your own goals differently.\n",
      "\n",
      "And remember — this isn’t a one-time thing.\n",
      "People change, life changes, and what you both wanted five years ago might \n",
      "not apply anymore.\n",
      "Make space for that. Stay curious. Be open to hearing it.\n",
      "\n",
      "\n",
      "\n"
     ]
    }
   ],
   "source": [
    "import re\n",
    "import json\n",
    "\n",
    "file_name = \"relationship.txt\"\n",
    "\n",
    "with open(file_name, \"r\", encoding=\"utf-8\") as f:\n",
    "    full_text = f.read()\n",
    "print(full_text)\n",
    "\n",
    "# this is a regex pattern to split the text into parts\n",
    "pattern = r'(Week\\s+\\d+\\s+Day\\s+\\d+)'\n",
    "parts = re.split(pattern, full_text)\n",
    "\n",
    "days = []\n",
    "for i in range(1, len(parts), 2):\n",
    "    title = parts[i].strip()\n",
    "    content = parts[i + 1].strip()\n",
    "    days.append((title, f\"{title}\\n{content}\"))\n",
    "\n"
   ]
  },
  {
   "cell_type": "code",
   "execution_count": 28,
   "id": "9324b0f9",
   "metadata": {},
   "outputs": [],
   "source": [
    "system_prompt_ = \"You are a helpful assistant. \\\n",
    "    For each Week and Day, summarize the key information briefly.\""
   ]
  },
  {
   "cell_type": "code",
   "execution_count": 47,
   "id": "8f0c18ed",
   "metadata": {},
   "outputs": [],
   "source": [
    "def user_prompt_for(day_text, z):\n",
    "    user_prompt = f\"Please summarize the following content into a single line \\\n",
    "    to be used as a podcast episode title, \\\n",
    "        in the format: Week X: Day Y – NAME (Z). \\\n",
    "            X is the Week number, Y is the day number \\\n",
    "            and Z is the value {z}. \\\n",
    "            NAME is the episode title you create.\\n\"\n",
    "    user_prompt += day_text\n",
    "    return user_prompt"
   ]
  },
  {
   "cell_type": "code",
   "execution_count": 48,
   "id": "57277558",
   "metadata": {},
   "outputs": [],
   "source": [
    "def messages_for_day(day_text,z):\n",
    "    return [\n",
    "        {\"role\": \"system\", \"content\": system_prompt_},\n",
    "        {\"role\": \"user\", \"content\": user_prompt_for(day_text,z)}\n",
    "    ]"
   ]
  },
  {
   "cell_type": "code",
   "execution_count": 49,
   "id": "9afc1b74",
   "metadata": {},
   "outputs": [],
   "source": [
    "def summarize_title(day_text,z):\n",
    "    response = client.chat.completions.create(\n",
    "        model=deployment,\n",
    "        messages=messages_for_day(day_text,z)\n",
    "    )\n",
    "    return response.choices[0].message.content"
   ]
  },
  {
   "cell_type": "code",
   "execution_count": 51,
   "id": "00743dac-0e70-45b7-879a-d7293a6f68a6",
   "metadata": {},
   "outputs": [
    {
     "name": "stdout",
     "output_type": "stream",
     "text": [
      "📤 Processing Week 2 Day 1...\n",
      "📥 Received: Week 2: Day 1 – Building a Deeper Love Map (8)\n",
      "📤 Processing Week 2 Day 2...\n",
      "📥 Received: Week 2: Day 2 – A Shared Vision for the Future (9)\n"
     ]
    }
   ],
   "source": [
    "results = []\n",
    "podcast_episode_num = 8\n",
    "# Loop through the days and summarize each one\n",
    "for title, day_text in days:\n",
    "    print(f\"📤 Processing {title}...\")\n",
    "    \n",
    "    try:\n",
    "        answer = summarize_title(day_text, podcast_episode_num)\n",
    "    except Exception as e:\n",
    "        print(f\"⚠️ Error with {title}: {e}\")\n",
    "        answer = None\n",
    "\n",
    "    results.append({\n",
    "        \"day\": title,\n",
    "        \"response\": answer\n",
    "    })\n",
    "    podcast_episode_num += 1\n",
    "    print(f\"📥 Received: {answer}\")"
   ]
  },
  {
   "cell_type": "markdown",
   "id": "36ed9f14-b349-40e9-a42c-b367e77f8bda",
   "metadata": {},
   "source": [
    "## An extra exercise for those who enjoy web scraping\n",
    "\n",
    "You may notice that if you try `display_summary(\"https://openai.com\")` - it doesn't work! That's because OpenAI has a fancy website that uses Javascript. There are many ways around this that some of you might be familiar with. For example, Selenium is a hugely popular framework that runs a browser behind the scenes, renders the page, and allows you to query it. If you have experience with Selenium, Playwright or similar, then feel free to improve the Website class to use them. In the community-contributions folder, you'll find an example Selenium solution from a student (thank you!)"
   ]
  },
  {
   "cell_type": "markdown",
   "id": "eeab24dc-5f90-4570-b542-b0585aca3eb6",
   "metadata": {},
   "source": [
    "# Sharing your code\n",
    "\n",
    "I'd love it if you share your code afterwards so I can share it with others! You'll notice that some students have already made changes (including a Selenium implementation) which you will find in the community-contributions folder. If you'd like add your changes to that folder, submit a Pull Request with your new versions in that folder and I'll merge your changes.\n",
    "\n",
    "If you're not an expert with git (and I am not!) then GPT has given some nice instructions on how to submit a Pull Request. It's a bit of an involved process, but once you've done it once it's pretty clear. As a pro-tip: it's best if you clear the outputs of your Jupyter notebooks (Edit >> Clean outputs of all cells, and then Save) for clean notebooks.\n",
    "\n",
    "Here are good instructions courtesy of an AI friend:  \n",
    "https://chatgpt.com/share/677a9cb5-c64c-8012-99e0-e06e88afd293"
   ]
  },
  {
   "cell_type": "code",
   "execution_count": null,
   "id": "f4484fcf-8b39-4c3f-9674-37970ed71988",
   "metadata": {},
   "outputs": [],
   "source": []
  }
 ],
 "metadata": {
  "kernelspec": {
   "display_name": "llms",
   "language": "python",
   "name": "python3"
  },
  "language_info": {
   "codemirror_mode": {
    "name": "ipython",
    "version": 3
   },
   "file_extension": ".py",
   "mimetype": "text/x-python",
   "name": "python",
   "nbconvert_exporter": "python",
   "pygments_lexer": "ipython3",
   "version": "3.11.9"
  }
 },
 "nbformat": 4,
 "nbformat_minor": 5
}
